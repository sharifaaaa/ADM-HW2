{
 "cells": [
  {
   "cell_type": "code",
   "execution_count": 126,
   "metadata": {},
   "outputs": [],
   "source": [
    "import numpy as np\n",
    "import pandas as pd\n",
    "import seaborn as sns\n",
    "import matplotlib.pyplot as plt\n",
    "from copy import deepcopy\n",
    "import datetime\n",
    "from scipy import stats\n",
    "import scipy"
   ]
  },
  {
   "cell_type": "markdown",
   "metadata": {},
   "source": [
    "# Read datasets"
   ]
  },
  {
   "cell_type": "markdown",
   "metadata": {},
   "source": [
    "### posts dataset"
   ]
  },
  {
   "cell_type": "code",
   "execution_count": 3,
   "metadata": {},
   "outputs": [
    {
     "data": {
      "text/html": [
       "<div>\n",
       "<style scoped>\n",
       "    .dataframe tbody tr th:only-of-type {\n",
       "        vertical-align: middle;\n",
       "    }\n",
       "\n",
       "    .dataframe tbody tr th {\n",
       "        vertical-align: top;\n",
       "    }\n",
       "\n",
       "    .dataframe thead th {\n",
       "        text-align: right;\n",
       "    }\n",
       "</style>\n",
       "<table border=\"1\" class=\"dataframe\">\n",
       "  <thead>\n",
       "    <tr style=\"text-align: right;\">\n",
       "      <th></th>\n",
       "      <th>sid</th>\n",
       "      <th>sid_profile</th>\n",
       "      <th>post_id</th>\n",
       "      <th>profile_id</th>\n",
       "      <th>location_id</th>\n",
       "      <th>cts</th>\n",
       "      <th>post_type</th>\n",
       "      <th>description</th>\n",
       "      <th>number_likes</th>\n",
       "      <th>number_comments</th>\n",
       "    </tr>\n",
       "  </thead>\n",
       "  <tbody>\n",
       "    <tr>\n",
       "      <th>0</th>\n",
       "      <td>28370919</td>\n",
       "      <td>3496776</td>\n",
       "      <td>BXdjjUlgcgq</td>\n",
       "      <td>2237947779</td>\n",
       "      <td>822632667</td>\n",
       "      <td>2017-08-06 20:06:57.000</td>\n",
       "      <td>2</td>\n",
       "      <td>Wreckloose! Deevalley bike park laps on the @i...</td>\n",
       "      <td>80</td>\n",
       "      <td>0</td>\n",
       "    </tr>\n",
       "    <tr>\n",
       "      <th>1</th>\n",
       "      <td>28370932</td>\n",
       "      <td>-1</td>\n",
       "      <td>BVg0pbolYBC</td>\n",
       "      <td>5579335020</td>\n",
       "      <td>-130812897</td>\n",
       "      <td>2017-06-19 09:31:16.000</td>\n",
       "      <td>1</td>\n",
       "      <td>🙌🏼 believe in ya dreams 🙌🏼 just like I believe...</td>\n",
       "      <td>25</td>\n",
       "      <td>1</td>\n",
       "    </tr>\n",
       "    <tr>\n",
       "      <th>2</th>\n",
       "      <td>28370933</td>\n",
       "      <td>-1</td>\n",
       "      <td>BRgkjcXFp3Q</td>\n",
       "      <td>313429634</td>\n",
       "      <td>-130812897</td>\n",
       "      <td>2017-03-11 20:05:03.000</td>\n",
       "      <td>1</td>\n",
       "      <td>#meraviglia #incensi #the #candele #profumo #a...</td>\n",
       "      <td>9</td>\n",
       "      <td>0</td>\n",
       "    </tr>\n",
       "    <tr>\n",
       "      <th>3</th>\n",
       "      <td>28370934</td>\n",
       "      <td>-1</td>\n",
       "      <td>BKTKeNhjEA7</td>\n",
       "      <td>1837592700</td>\n",
       "      <td>-130812897</td>\n",
       "      <td>2016-09-13 16:27:16.000</td>\n",
       "      <td>1</td>\n",
       "      <td>#teatime #scorpion #friends #love #mountains #...</td>\n",
       "      <td>4</td>\n",
       "      <td>0</td>\n",
       "    </tr>\n",
       "    <tr>\n",
       "      <th>4</th>\n",
       "      <td>28370935</td>\n",
       "      <td>-1</td>\n",
       "      <td>8-NQrvoYLX</td>\n",
       "      <td>1131527143</td>\n",
       "      <td>-130812897</td>\n",
       "      <td>2015-10-18 10:19:27.000</td>\n",
       "      <td>1</td>\n",
       "      <td>thE sky gavE mE a #constEllation</td>\n",
       "      <td>8</td>\n",
       "      <td>0</td>\n",
       "    </tr>\n",
       "  </tbody>\n",
       "</table>\n",
       "</div>"
      ],
      "text/plain": [
       "        sid  sid_profile      post_id  profile_id  location_id  \\\n",
       "0  28370919      3496776  BXdjjUlgcgq  2237947779    822632667   \n",
       "1  28370932           -1  BVg0pbolYBC  5579335020   -130812897   \n",
       "2  28370933           -1  BRgkjcXFp3Q   313429634   -130812897   \n",
       "3  28370934           -1  BKTKeNhjEA7  1837592700   -130812897   \n",
       "4  28370935           -1   8-NQrvoYLX  1131527143   -130812897   \n",
       "\n",
       "                       cts  post_type  \\\n",
       "0  2017-08-06 20:06:57.000          2   \n",
       "1  2017-06-19 09:31:16.000          1   \n",
       "2  2017-03-11 20:05:03.000          1   \n",
       "3  2016-09-13 16:27:16.000          1   \n",
       "4  2015-10-18 10:19:27.000          1   \n",
       "\n",
       "                                         description  number_likes  \\\n",
       "0  Wreckloose! Deevalley bike park laps on the @i...            80   \n",
       "1  🙌🏼 believe in ya dreams 🙌🏼 just like I believe...            25   \n",
       "2  #meraviglia #incensi #the #candele #profumo #a...             9   \n",
       "3  #teatime #scorpion #friends #love #mountains #...             4   \n",
       "4                   thE sky gavE mE a #constEllation             8   \n",
       "\n",
       "   number_comments  \n",
       "0                0  \n",
       "1                1  \n",
       "2                0  \n",
       "3                0  \n",
       "4                0  "
      ]
     },
     "execution_count": 3,
     "metadata": {},
     "output_type": "execute_result"
    }
   ],
   "source": [
    "df = pd.read_csv('./instagram_posts.csv/instagram_posts.csv',sep='\\t', dtype=str, nrows=1000000)\n",
    "df = df.rename(columns={\"numbr_likes\": \"number_likes\"})\n",
    "df = df.dropna()\n",
    "#print(df)\n",
    "df['sid'] = df['sid'].astype(np.int32)\n",
    "df['sid_profile'] = df['sid_profile'].astype(np.int32)\n",
    "df['post_id'] = df['post_id'].astype(np.str)\n",
    "# ###########df['profile_id'] = df['profile_id'].astype(np.int32)\n",
    "df['profile_id'] = df['profile_id'].astype(str)\n",
    "df['location_id'] = df['location_id'].astype(np.int32)\n",
    "df['cts'] = df['cts'].astype(str)\n",
    "df['post_type'] = df['post_type'].astype(np.int32)\n",
    "# df['description'] = df['description'].astype(str)\n",
    "df['number_likes'] = df['number_likes'].astype(np.int32)\n",
    "df['number_comments'] = df['number_comments'].astype(np.int32)\n",
    "df.head()"
   ]
  },
  {
   "cell_type": "markdown",
   "metadata": {},
   "source": [
    "### profiles dataset"
   ]
  },
  {
   "cell_type": "code",
   "execution_count": 4,
   "metadata": {},
   "outputs": [
    {
     "data": {
      "text/html": [
       "<div>\n",
       "<style scoped>\n",
       "    .dataframe tbody tr th:only-of-type {\n",
       "        vertical-align: middle;\n",
       "    }\n",
       "\n",
       "    .dataframe tbody tr th {\n",
       "        vertical-align: top;\n",
       "    }\n",
       "\n",
       "    .dataframe thead th {\n",
       "        text-align: right;\n",
       "    }\n",
       "</style>\n",
       "<table border=\"1\" class=\"dataframe\">\n",
       "  <thead>\n",
       "    <tr style=\"text-align: right;\">\n",
       "      <th></th>\n",
       "      <th>sid</th>\n",
       "      <th>profile_id</th>\n",
       "      <th>profile_name</th>\n",
       "      <th>firstname_lastname</th>\n",
       "      <th>description</th>\n",
       "      <th>following</th>\n",
       "      <th>followers</th>\n",
       "      <th>n_posts</th>\n",
       "      <th>url</th>\n",
       "      <th>cts</th>\n",
       "      <th>is_business_account</th>\n",
       "    </tr>\n",
       "  </thead>\n",
       "  <tbody>\n",
       "    <tr>\n",
       "      <th>1</th>\n",
       "      <td>4184457</td>\n",
       "      <td>590583002</td>\n",
       "      <td>mama_haas</td>\n",
       "      <td>Deanna</td>\n",
       "      <td>Trying to enjoy the simple things in life. Kni...</td>\n",
       "      <td>534</td>\n",
       "      <td>1145</td>\n",
       "      <td>2878</td>\n",
       "      <td>www.etsy.com/shop/MamaHaas69</td>\n",
       "      <td>2019-08-01 14:39:36.526 -0400</td>\n",
       "      <td>false</td>\n",
       "    </tr>\n",
       "    <tr>\n",
       "      <th>2</th>\n",
       "      <td>4184460</td>\n",
       "      <td>1074146658</td>\n",
       "      <td>yellowlightbreen</td>\n",
       "      <td>Eliza Gray</td>\n",
       "      <td>Maine is for Lovers</td>\n",
       "      <td>469</td>\n",
       "      <td>324</td>\n",
       "      <td>431</td>\n",
       "      <td>elizajanegray.com</td>\n",
       "      <td>2019-08-01 14:39:54.407 -0400</td>\n",
       "      <td>false</td>\n",
       "    </tr>\n",
       "    <tr>\n",
       "      <th>6</th>\n",
       "      <td>4184471</td>\n",
       "      <td>2061867521</td>\n",
       "      <td>masslivehs</td>\n",
       "      <td>MassLive High School Sports</td>\n",
       "      <td>Your spot for the best Western Mass. high scho...</td>\n",
       "      <td>157</td>\n",
       "      <td>4137</td>\n",
       "      <td>753</td>\n",
       "      <td>bit.ly/2HIysyv</td>\n",
       "      <td>2019-08-01 14:40:40.390 -0400</td>\n",
       "      <td>true</td>\n",
       "    </tr>\n",
       "    <tr>\n",
       "      <th>13</th>\n",
       "      <td>4184486</td>\n",
       "      <td>304139153</td>\n",
       "      <td>katepani413</td>\n",
       "      <td>kp!!!! ☆</td>\n",
       "      <td>cowley college volleyball\\n3.18.19 @garrett.lange</td>\n",
       "      <td>1543</td>\n",
       "      <td>3008</td>\n",
       "      <td>115</td>\n",
       "      <td>vsco.co/kpani</td>\n",
       "      <td>2019-08-01 14:41:46.967 -0400</td>\n",
       "      <td>true</td>\n",
       "    </tr>\n",
       "    <tr>\n",
       "      <th>50</th>\n",
       "      <td>4184480</td>\n",
       "      <td>9947274404</td>\n",
       "      <td>jk_vastgoed</td>\n",
       "      <td>JK VASTGOED</td>\n",
       "      <td>Een vernieuwend vastgoedkantoor waarbij persoo...</td>\n",
       "      <td>215</td>\n",
       "      <td>182</td>\n",
       "      <td>14</td>\n",
       "      <td>www.jkvastgoed.be</td>\n",
       "      <td>2019-08-01 14:41:25.930 -0400</td>\n",
       "      <td>true</td>\n",
       "    </tr>\n",
       "  </tbody>\n",
       "</table>\n",
       "</div>"
      ],
      "text/plain": [
       "        sid  profile_id      profile_name           firstname_lastname  \\\n",
       "1   4184457   590583002         mama_haas                       Deanna   \n",
       "2   4184460  1074146658  yellowlightbreen                   Eliza Gray   \n",
       "6   4184471  2061867521        masslivehs  MassLive High School Sports   \n",
       "13  4184486   304139153       katepani413                     kp!!!! ☆   \n",
       "50  4184480  9947274404       jk_vastgoed                  JK VASTGOED   \n",
       "\n",
       "                                          description  following  followers  \\\n",
       "1   Trying to enjoy the simple things in life. Kni...        534       1145   \n",
       "2                                 Maine is for Lovers        469        324   \n",
       "6   Your spot for the best Western Mass. high scho...        157       4137   \n",
       "13  cowley college volleyball\\n3.18.19 @garrett.lange       1543       3008   \n",
       "50  Een vernieuwend vastgoedkantoor waarbij persoo...        215        182   \n",
       "\n",
       "    n_posts                           url                            cts  \\\n",
       "1      2878  www.etsy.com/shop/MamaHaas69  2019-08-01 14:39:36.526 -0400   \n",
       "2       431             elizajanegray.com  2019-08-01 14:39:54.407 -0400   \n",
       "6       753                bit.ly/2HIysyv  2019-08-01 14:40:40.390 -0400   \n",
       "13      115                 vsco.co/kpani  2019-08-01 14:41:46.967 -0400   \n",
       "50       14             www.jkvastgoed.be  2019-08-01 14:41:25.930 -0400   \n",
       "\n",
       "   is_business_account  \n",
       "1                false  \n",
       "2                false  \n",
       "6                 true  \n",
       "13                true  \n",
       "50                true  "
      ]
     },
     "execution_count": 4,
     "metadata": {},
     "output_type": "execute_result"
    }
   ],
   "source": [
    "prof_df = pd.read_csv('./instagram_profiles.csv/instagram_profiles.csv', sep='\\t', dtype=np.str, error_bad_lines=False)\n",
    "\n",
    "prof_df = prof_df.dropna()\n",
    "prof_df['n_posts'] = prof_df['n_posts'].astype(np.int32)\n",
    "prof_df['followers'] = prof_df['followers'].astype(np.int32)\n",
    "prof_df['following'] = prof_df['following'].astype(np.int32)\n",
    "\n",
    "prof_df.head()"
   ]
  },
  {
   "cell_type": "markdown",
   "metadata": {},
   "source": [
    "### location dataset"
   ]
  },
  {
   "cell_type": "code",
   "execution_count": 5,
   "metadata": {},
   "outputs": [
    {
     "data": {
      "text/html": [
       "<div>\n",
       "<style scoped>\n",
       "    .dataframe tbody tr th:only-of-type {\n",
       "        vertical-align: middle;\n",
       "    }\n",
       "\n",
       "    .dataframe tbody tr th {\n",
       "        vertical-align: top;\n",
       "    }\n",
       "\n",
       "    .dataframe thead th {\n",
       "        text-align: right;\n",
       "    }\n",
       "</style>\n",
       "<table border=\"1\" class=\"dataframe\">\n",
       "  <thead>\n",
       "    <tr style=\"text-align: right;\">\n",
       "      <th></th>\n",
       "      <th>sid</th>\n",
       "      <th>id</th>\n",
       "      <th>name</th>\n",
       "      <th>street</th>\n",
       "      <th>zip</th>\n",
       "      <th>city</th>\n",
       "      <th>region</th>\n",
       "      <th>cd</th>\n",
       "      <th>phone</th>\n",
       "      <th>aj_exact_city_match</th>\n",
       "      <th>...</th>\n",
       "      <th>dir_city_name</th>\n",
       "      <th>dir_city_slug</th>\n",
       "      <th>dir_country_id</th>\n",
       "      <th>dir_country_name</th>\n",
       "      <th>lat</th>\n",
       "      <th>lng</th>\n",
       "      <th>primary_alias_on_fb</th>\n",
       "      <th>slug</th>\n",
       "      <th>website</th>\n",
       "      <th>cts</th>\n",
       "    </tr>\n",
       "  </thead>\n",
       "  <tbody>\n",
       "    <tr>\n",
       "      <th>0</th>\n",
       "      <td>719981</td>\n",
       "      <td>110296492939207</td>\n",
       "      <td>Playa de Daimuz - Valencia, España</td>\n",
       "      <td>NaN</td>\n",
       "      <td>NaN</td>\n",
       "      <td>NaN</td>\n",
       "      <td>NaN</td>\n",
       "      <td>NaN</td>\n",
       "      <td>NaN</td>\n",
       "      <td>False</td>\n",
       "      <td>...</td>\n",
       "      <td>NaN</td>\n",
       "      <td>NaN</td>\n",
       "      <td>NaN</td>\n",
       "      <td>NaN</td>\n",
       "      <td>-0.139475</td>\n",
       "      <td>38.974391</td>\n",
       "      <td>daimuzplaya</td>\n",
       "      <td>playa-de-daimuz-valencia-espana</td>\n",
       "      <td>https://es.wikipedia.org/wiki/Daimuz</td>\n",
       "      <td>2019-05-29 01:21:29.987</td>\n",
       "    </tr>\n",
       "    <tr>\n",
       "      <th>1</th>\n",
       "      <td>719983</td>\n",
       "      <td>274391278</td>\n",
       "      <td>Nová Vieska</td>\n",
       "      <td>NaN</td>\n",
       "      <td>NaN</td>\n",
       "      <td>Nová Vieska</td>\n",
       "      <td>NaN</td>\n",
       "      <td>SK</td>\n",
       "      <td>NaN</td>\n",
       "      <td>True</td>\n",
       "      <td>...</td>\n",
       "      <td>Kis-Újfalu</td>\n",
       "      <td>kis-ujfalu</td>\n",
       "      <td>SK</td>\n",
       "      <td>Slovakia</td>\n",
       "      <td>18.466667</td>\n",
       "      <td>47.866667</td>\n",
       "      <td>NaN</td>\n",
       "      <td>nova-vieska</td>\n",
       "      <td>NaN</td>\n",
       "      <td>2019-05-29 01:21:38.037</td>\n",
       "    </tr>\n",
       "    <tr>\n",
       "      <th>2</th>\n",
       "      <td>719985</td>\n",
       "      <td>148885595789195</td>\n",
       "      <td>Everest Today</td>\n",
       "      <td>Himalayas</td>\n",
       "      <td>+977</td>\n",
       "      <td>Kathmandu, Nepal</td>\n",
       "      <td>NaN</td>\n",
       "      <td>NP</td>\n",
       "      <td>NaN</td>\n",
       "      <td>False</td>\n",
       "      <td>...</td>\n",
       "      <td>Pasupati</td>\n",
       "      <td>pasupati</td>\n",
       "      <td>NP</td>\n",
       "      <td>Nepal</td>\n",
       "      <td>85.330150</td>\n",
       "      <td>27.701960</td>\n",
       "      <td>EverestToday</td>\n",
       "      <td>everest-today</td>\n",
       "      <td>NaN</td>\n",
       "      <td>2019-05-29 01:21:46.295</td>\n",
       "    </tr>\n",
       "    <tr>\n",
       "      <th>3</th>\n",
       "      <td>719987</td>\n",
       "      <td>263258277</td>\n",
       "      <td>BULAC - Bibliothèque universitaire des langues...</td>\n",
       "      <td>65, rue des Grands-Moulins</td>\n",
       "      <td>75013</td>\n",
       "      <td>Paris, France</td>\n",
       "      <td>NaN</td>\n",
       "      <td>FR</td>\n",
       "      <td>01 81 69 18 00</td>\n",
       "      <td>False</td>\n",
       "      <td>...</td>\n",
       "      <td>13ème Arrondissement Paris</td>\n",
       "      <td>13eme-arrondissement-paris</td>\n",
       "      <td>FR</td>\n",
       "      <td>France</td>\n",
       "      <td>2.375995</td>\n",
       "      <td>48.827240</td>\n",
       "      <td>BULAC.Paris</td>\n",
       "      <td>bulac-bibliotheque-universitaire-des-langues-e...</td>\n",
       "      <td>www.bulac.fr</td>\n",
       "      <td>2019-05-29 01:21:54.355</td>\n",
       "    </tr>\n",
       "    <tr>\n",
       "      <th>4</th>\n",
       "      <td>326443</td>\n",
       "      <td>406147529857708</td>\n",
       "      <td>ABC Cable Networks Group</td>\n",
       "      <td>3800 W Alameda Ave</td>\n",
       "      <td>91505</td>\n",
       "      <td>Burbank, California</td>\n",
       "      <td>NaN</td>\n",
       "      <td>US</td>\n",
       "      <td>(818) 569-7500</td>\n",
       "      <td>False</td>\n",
       "      <td>...</td>\n",
       "      <td>NaN</td>\n",
       "      <td>NaN</td>\n",
       "      <td>NaN</td>\n",
       "      <td>NaN</td>\n",
       "      <td>-118.341864</td>\n",
       "      <td>34.153265</td>\n",
       "      <td>NaN</td>\n",
       "      <td>abc-cable-networks-group</td>\n",
       "      <td>NaN</td>\n",
       "      <td>2019-04-02 15:22:55.703</td>\n",
       "    </tr>\n",
       "  </tbody>\n",
       "</table>\n",
       "<p>5 rows × 23 columns</p>\n",
       "</div>"
      ],
      "text/plain": [
       "      sid               id                                               name  \\\n",
       "0  719981  110296492939207                 Playa de Daimuz - Valencia, España   \n",
       "1  719983        274391278                                        Nová Vieska   \n",
       "2  719985  148885595789195                                      Everest Today   \n",
       "3  719987        263258277  BULAC - Bibliothèque universitaire des langues...   \n",
       "4  326443  406147529857708                           ABC Cable Networks Group   \n",
       "\n",
       "                       street    zip                 city region   cd  \\\n",
       "0                         NaN    NaN                  NaN    NaN  NaN   \n",
       "1                         NaN    NaN          Nová Vieska    NaN   SK   \n",
       "2                   Himalayas   +977     Kathmandu, Nepal    NaN   NP   \n",
       "3  65, rue des Grands-Moulins  75013        Paris, France    NaN   FR   \n",
       "4          3800 W Alameda Ave  91505  Burbank, California    NaN   US   \n",
       "\n",
       "            phone aj_exact_city_match  ...               dir_city_name  \\\n",
       "0             NaN               False  ...                         NaN   \n",
       "1             NaN                True  ...                  Kis-Újfalu   \n",
       "2             NaN               False  ...                    Pasupati   \n",
       "3  01 81 69 18 00               False  ...  13ème Arrondissement Paris   \n",
       "4  (818) 569-7500               False  ...                         NaN   \n",
       "\n",
       "                dir_city_slug dir_country_id dir_country_name         lat  \\\n",
       "0                         NaN            NaN              NaN   -0.139475   \n",
       "1                  kis-ujfalu             SK         Slovakia   18.466667   \n",
       "2                    pasupati             NP            Nepal   85.330150   \n",
       "3  13eme-arrondissement-paris             FR           France    2.375995   \n",
       "4                         NaN            NaN              NaN -118.341864   \n",
       "\n",
       "         lng primary_alias_on_fb  \\\n",
       "0  38.974391         daimuzplaya   \n",
       "1  47.866667                 NaN   \n",
       "2  27.701960        EverestToday   \n",
       "3  48.827240         BULAC.Paris   \n",
       "4  34.153265                 NaN   \n",
       "\n",
       "                                                slug  \\\n",
       "0                    playa-de-daimuz-valencia-espana   \n",
       "1                                        nova-vieska   \n",
       "2                                      everest-today   \n",
       "3  bulac-bibliotheque-universitaire-des-langues-e...   \n",
       "4                           abc-cable-networks-group   \n",
       "\n",
       "                                website                      cts  \n",
       "0  https://es.wikipedia.org/wiki/Daimuz  2019-05-29 01:21:29.987  \n",
       "1                                   NaN  2019-05-29 01:21:38.037  \n",
       "2                                   NaN  2019-05-29 01:21:46.295  \n",
       "3                          www.bulac.fr  2019-05-29 01:21:54.355  \n",
       "4                                   NaN  2019-04-02 15:22:55.703  \n",
       "\n",
       "[5 rows x 23 columns]"
      ]
     },
     "execution_count": 5,
     "metadata": {},
     "output_type": "execute_result"
    }
   ],
   "source": [
    "loc_df = pd.read_csv('./instagram_locations.csv/instagram_locations.csv', sep='\\t', error_bad_lines=False)\n",
    "loc_df.head()"
   ]
  },
  {
   "cell_type": "markdown",
   "metadata": {},
   "source": [
    "# Problem 1"
   ]
  },
  {
   "cell_type": "code",
   "execution_count": 9,
   "metadata": {},
   "outputs": [
    {
     "name": "stdout",
     "output_type": "stream",
     "text": [
      "<class 'pandas.core.frame.DataFrame'>\n",
      "Int64Index: 914676 entries, 0 to 999999\n",
      "Data columns (total 10 columns):\n",
      " #   Column           Non-Null Count   Dtype \n",
      "---  ------           --------------   ----- \n",
      " 0   sid              914676 non-null  int32 \n",
      " 1   sid_profile      914676 non-null  int32 \n",
      " 2   post_id          914676 non-null  object\n",
      " 3   profile_id       914676 non-null  object\n",
      " 4   location_id      914676 non-null  int32 \n",
      " 5   cts              914676 non-null  object\n",
      " 6   post_type        914676 non-null  int32 \n",
      " 7   description      914676 non-null  object\n",
      " 8   number_likes     914676 non-null  int32 \n",
      " 9   number_comments  914676 non-null  int32 \n",
      "dtypes: int32(6), object(4)\n",
      "memory usage: 55.8+ MB\n",
      "------------------------------------\n"
     ]
    },
    {
     "data": {
      "text/html": [
       "<div>\n",
       "<style scoped>\n",
       "    .dataframe tbody tr th:only-of-type {\n",
       "        vertical-align: middle;\n",
       "    }\n",
       "\n",
       "    .dataframe tbody tr th {\n",
       "        vertical-align: top;\n",
       "    }\n",
       "\n",
       "    .dataframe thead th {\n",
       "        text-align: right;\n",
       "    }\n",
       "</style>\n",
       "<table border=\"1\" class=\"dataframe\">\n",
       "  <thead>\n",
       "    <tr style=\"text-align: right;\">\n",
       "      <th></th>\n",
       "      <th>sid</th>\n",
       "      <th>sid_profile</th>\n",
       "      <th>location_id</th>\n",
       "      <th>post_type</th>\n",
       "      <th>number_likes</th>\n",
       "      <th>number_comments</th>\n",
       "    </tr>\n",
       "  </thead>\n",
       "  <tbody>\n",
       "    <tr>\n",
       "      <th>count</th>\n",
       "      <td>9.146760e+05</td>\n",
       "      <td>9.146760e+05</td>\n",
       "      <td>9.146760e+05</td>\n",
       "      <td>914676.000000</td>\n",
       "      <td>9.146760e+05</td>\n",
       "      <td>914676.000000</td>\n",
       "    </tr>\n",
       "    <tr>\n",
       "      <th>mean</th>\n",
       "      <td>2.846406e+07</td>\n",
       "      <td>2.345953e+05</td>\n",
       "      <td>3.600099e+08</td>\n",
       "      <td>1.059889</td>\n",
       "      <td>3.205635e+02</td>\n",
       "      <td>7.733264</td>\n",
       "    </tr>\n",
       "    <tr>\n",
       "      <th>std</th>\n",
       "      <td>2.325953e+06</td>\n",
       "      <td>8.215945e+05</td>\n",
       "      <td>7.575034e+08</td>\n",
       "      <td>0.237295</td>\n",
       "      <td>5.798666e+03</td>\n",
       "      <td>191.478005</td>\n",
       "    </tr>\n",
       "    <tr>\n",
       "      <th>min</th>\n",
       "      <td>3.245800e+04</td>\n",
       "      <td>-1.000000e+00</td>\n",
       "      <td>-2.147460e+09</td>\n",
       "      <td>1.000000</td>\n",
       "      <td>0.000000e+00</td>\n",
       "      <td>0.000000</td>\n",
       "    </tr>\n",
       "    <tr>\n",
       "      <th>25%</th>\n",
       "      <td>2.858671e+07</td>\n",
       "      <td>-1.000000e+00</td>\n",
       "      <td>2.292358e+08</td>\n",
       "      <td>1.000000</td>\n",
       "      <td>2.100000e+01</td>\n",
       "      <td>0.000000</td>\n",
       "    </tr>\n",
       "    <tr>\n",
       "      <th>50%</th>\n",
       "      <td>2.885097e+07</td>\n",
       "      <td>-1.000000e+00</td>\n",
       "      <td>3.539620e+08</td>\n",
       "      <td>1.000000</td>\n",
       "      <td>5.000000e+01</td>\n",
       "      <td>2.000000</td>\n",
       "    </tr>\n",
       "    <tr>\n",
       "      <th>75%</th>\n",
       "      <td>2.911958e+07</td>\n",
       "      <td>-1.000000e+00</td>\n",
       "      <td>8.532055e+08</td>\n",
       "      <td>1.000000</td>\n",
       "      <td>1.290000e+02</td>\n",
       "      <td>6.000000</td>\n",
       "    </tr>\n",
       "    <tr>\n",
       "      <th>max</th>\n",
       "      <td>2.938839e+07</td>\n",
       "      <td>4.510554e+06</td>\n",
       "      <td>2.147346e+09</td>\n",
       "      <td>3.000000</td>\n",
       "      <td>1.963123e+06</td>\n",
       "      <td>135221.000000</td>\n",
       "    </tr>\n",
       "  </tbody>\n",
       "</table>\n",
       "</div>"
      ],
      "text/plain": [
       "                sid   sid_profile   location_id      post_type  number_likes  \\\n",
       "count  9.146760e+05  9.146760e+05  9.146760e+05  914676.000000  9.146760e+05   \n",
       "mean   2.846406e+07  2.345953e+05  3.600099e+08       1.059889  3.205635e+02   \n",
       "std    2.325953e+06  8.215945e+05  7.575034e+08       0.237295  5.798666e+03   \n",
       "min    3.245800e+04 -1.000000e+00 -2.147460e+09       1.000000  0.000000e+00   \n",
       "25%    2.858671e+07 -1.000000e+00  2.292358e+08       1.000000  2.100000e+01   \n",
       "50%    2.885097e+07 -1.000000e+00  3.539620e+08       1.000000  5.000000e+01   \n",
       "75%    2.911958e+07 -1.000000e+00  8.532055e+08       1.000000  1.290000e+02   \n",
       "max    2.938839e+07  4.510554e+06  2.147346e+09       3.000000  1.963123e+06   \n",
       "\n",
       "       number_comments  \n",
       "count    914676.000000  \n",
       "mean          7.733264  \n",
       "std         191.478005  \n",
       "min           0.000000  \n",
       "25%           0.000000  \n",
       "50%           2.000000  \n",
       "75%           6.000000  \n",
       "max      135221.000000  "
      ]
     },
     "execution_count": 9,
     "metadata": {},
     "output_type": "execute_result"
    }
   ],
   "source": [
    "df.info()\n",
    "print(\"-------------------------------------------------------------------------------------------\")\n",
    "df.describe()"
   ]
  },
  {
   "cell_type": "code",
   "execution_count": 10,
   "metadata": {},
   "outputs": [
    {
     "data": {
      "text/html": [
       "<div>\n",
       "<style scoped>\n",
       "    .dataframe tbody tr th:only-of-type {\n",
       "        vertical-align: middle;\n",
       "    }\n",
       "\n",
       "    .dataframe tbody tr th {\n",
       "        vertical-align: top;\n",
       "    }\n",
       "\n",
       "    .dataframe thead th {\n",
       "        text-align: right;\n",
       "    }\n",
       "</style>\n",
       "<table border=\"1\" class=\"dataframe\">\n",
       "  <thead>\n",
       "    <tr style=\"text-align: right;\">\n",
       "      <th></th>\n",
       "      <th>sid</th>\n",
       "      <th>sid_profile</th>\n",
       "      <th>location_id</th>\n",
       "      <th>post_type</th>\n",
       "      <th>number_likes</th>\n",
       "      <th>number_comments</th>\n",
       "    </tr>\n",
       "  </thead>\n",
       "  <tbody>\n",
       "    <tr>\n",
       "      <th>sid</th>\n",
       "      <td>1.000000</td>\n",
       "      <td>-0.330481</td>\n",
       "      <td>0.020531</td>\n",
       "      <td>0.027634</td>\n",
       "      <td>-0.006509</td>\n",
       "      <td>-0.010529</td>\n",
       "    </tr>\n",
       "    <tr>\n",
       "      <th>sid_profile</th>\n",
       "      <td>-0.330481</td>\n",
       "      <td>1.000000</td>\n",
       "      <td>-0.001722</td>\n",
       "      <td>-0.005669</td>\n",
       "      <td>0.030783</td>\n",
       "      <td>0.014671</td>\n",
       "    </tr>\n",
       "    <tr>\n",
       "      <th>location_id</th>\n",
       "      <td>0.020531</td>\n",
       "      <td>-0.001722</td>\n",
       "      <td>1.000000</td>\n",
       "      <td>0.002761</td>\n",
       "      <td>0.000110</td>\n",
       "      <td>-0.001114</td>\n",
       "    </tr>\n",
       "    <tr>\n",
       "      <th>post_type</th>\n",
       "      <td>0.027634</td>\n",
       "      <td>-0.005669</td>\n",
       "      <td>0.002761</td>\n",
       "      <td>1.000000</td>\n",
       "      <td>0.004253</td>\n",
       "      <td>0.004881</td>\n",
       "    </tr>\n",
       "    <tr>\n",
       "      <th>number_likes</th>\n",
       "      <td>-0.006509</td>\n",
       "      <td>0.030783</td>\n",
       "      <td>0.000110</td>\n",
       "      <td>0.004253</td>\n",
       "      <td>1.000000</td>\n",
       "      <td>0.378571</td>\n",
       "    </tr>\n",
       "    <tr>\n",
       "      <th>number_comments</th>\n",
       "      <td>-0.010529</td>\n",
       "      <td>0.014671</td>\n",
       "      <td>-0.001114</td>\n",
       "      <td>0.004881</td>\n",
       "      <td>0.378571</td>\n",
       "      <td>1.000000</td>\n",
       "    </tr>\n",
       "  </tbody>\n",
       "</table>\n",
       "</div>"
      ],
      "text/plain": [
       "                      sid  sid_profile  location_id  post_type  number_likes  \\\n",
       "sid              1.000000    -0.330481     0.020531   0.027634     -0.006509   \n",
       "sid_profile     -0.330481     1.000000    -0.001722  -0.005669      0.030783   \n",
       "location_id      0.020531    -0.001722     1.000000   0.002761      0.000110   \n",
       "post_type        0.027634    -0.005669     0.002761   1.000000      0.004253   \n",
       "number_likes    -0.006509     0.030783     0.000110   0.004253      1.000000   \n",
       "number_comments -0.010529     0.014671    -0.001114   0.004881      0.378571   \n",
       "\n",
       "                 number_comments  \n",
       "sid                    -0.010529  \n",
       "sid_profile             0.014671  \n",
       "location_id            -0.001114  \n",
       "post_type               0.004881  \n",
       "number_likes            0.378571  \n",
       "number_comments         1.000000  "
      ]
     },
     "execution_count": 10,
     "metadata": {},
     "output_type": "execute_result"
    }
   ],
   "source": [
    "df.corr()"
   ]
  },
  {
   "cell_type": "code",
   "execution_count": 22,
   "metadata": {},
   "outputs": [
    {
     "data": {
      "text/plain": [
       "sid                914676\n",
       "sid_profile         51469\n",
       "post_id            914676\n",
       "profile_id         699369\n",
       "location_id         44390\n",
       "cts                866276\n",
       "post_type               3\n",
       "description        876627\n",
       "number_likes        10231\n",
       "number_comments      1114\n",
       "dtype: int64"
      ]
     },
     "execution_count": 22,
     "metadata": {},
     "output_type": "execute_result"
    }
   ],
   "source": [
    "df.nunique()"
   ]
  },
  {
   "cell_type": "code",
   "execution_count": 12,
   "metadata": {},
   "outputs": [
    {
     "data": {
      "image/png": "[encoded data removed]",
      "text/plain": [
       "<Figure size 432x288 with 2 Axes>"
      ]
     },
     "metadata": {
      "needs_background": "light"
     },
     "output_type": "display_data"
    },
    {
     "name": "stderr",
     "output_type": "stream",
     "text": [
      "/home/arefhz75/.local/lib/python3.6/site-packages/numpy/core/_asarray.py:83: VisibleDeprecationWarning: Creating an ndarray from ragged nested sequences (which is a list-or-tuple of lists-or-tuples-or ndarrays with different lengths or shapes) is deprecated. If you meant to do this, you must specify 'dtype=object' when creating the ndarray\n",
      "  return array(a, dtype, copy=False, order=order)\n"
     ]
    },
    {
     "data": {
      "image/png": "[encoded data removed]",
      "text/plain": [
       "<Figure size 360x432 with 1 Axes>"
      ]
     },
     "metadata": {
      "needs_background": "light"
     },
     "output_type": "display_data"
    },
    {
     "data": {
      "image/png": "[encoded data removed]",
      "text/plain": [
       "<Figure size 432x288 with 1 Axes>"
      ]
     },
     "metadata": {
      "needs_background": "light"
     },
     "output_type": "display_data"
    }
   ],
   "source": [
    "corr = df.corr()\n",
    "sns.heatmap(corr, annot=True)\n",
    "plt.show()\n",
    "\n",
    "df.boxplot('number_comments','number_likes',figsize=(5,6))\n",
    "plt.show()\n",
    "n_likes = df['number_likes'].value_counts()\n",
    "#print(n_likes)\n",
    "#print(n_likes.index)\n",
    "plt.scatter(list(n_likes.index),n_likes.to_numpy())\n",
    "plt.show()"
   ]
  },
  {
   "cell_type": "code",
   "execution_count": 23,
   "metadata": {},
   "outputs": [
    {
     "name": "stdout",
     "output_type": "stream",
     "text": [
      "<class 'pandas.core.frame.DataFrame'>\n",
      "Int64Index: 746064 entries, 1 to 4509572\n",
      "Data columns (total 11 columns):\n",
      " #   Column               Non-Null Count   Dtype \n",
      "---  ------               --------------   ----- \n",
      " 0   sid                  746064 non-null  object\n",
      " 1   profile_id           746064 non-null  object\n",
      " 2   profile_name         746064 non-null  object\n",
      " 3   firstname_lastname   746064 non-null  object\n",
      " 4   description          746064 non-null  object\n",
      " 5   following            746064 non-null  int32 \n",
      " 6   followers            746064 non-null  int32 \n",
      " 7   n_posts              746064 non-null  int32 \n",
      " 8   url                  746064 non-null  object\n",
      " 9   cts                  746064 non-null  object\n",
      " 10  is_business_account  746064 non-null  object\n",
      "dtypes: int32(3), object(8)\n",
      "memory usage: 59.8+ MB\n",
      "-------------------------------------------------------------------------------------------\n"
     ]
    },
    {
     "data": {
      "text/html": [
       "<div>\n",
       "<style scoped>\n",
       "    .dataframe tbody tr th:only-of-type {\n",
       "        vertical-align: middle;\n",
       "    }\n",
       "\n",
       "    .dataframe tbody tr th {\n",
       "        vertical-align: top;\n",
       "    }\n",
       "\n",
       "    .dataframe thead th {\n",
       "        text-align: right;\n",
       "    }\n",
       "</style>\n",
       "<table border=\"1\" class=\"dataframe\">\n",
       "  <thead>\n",
       "    <tr style=\"text-align: right;\">\n",
       "      <th></th>\n",
       "      <th>following</th>\n",
       "      <th>followers</th>\n",
       "      <th>n_posts</th>\n",
       "    </tr>\n",
       "  </thead>\n",
       "  <tbody>\n",
       "    <tr>\n",
       "      <th>count</th>\n",
       "      <td>7.460640e+05</td>\n",
       "      <td>7.460640e+05</td>\n",
       "      <td>746064.000000</td>\n",
       "    </tr>\n",
       "    <tr>\n",
       "      <th>mean</th>\n",
       "      <td>1.734034e+03</td>\n",
       "      <td>1.126961e+04</td>\n",
       "      <td>670.256459</td>\n",
       "    </tr>\n",
       "    <tr>\n",
       "      <th>std</th>\n",
       "      <td>1.536903e+04</td>\n",
       "      <td>1.553586e+05</td>\n",
       "      <td>1417.273477</td>\n",
       "    </tr>\n",
       "    <tr>\n",
       "      <th>min</th>\n",
       "      <td>0.000000e+00</td>\n",
       "      <td>0.000000e+00</td>\n",
       "      <td>0.000000</td>\n",
       "    </tr>\n",
       "    <tr>\n",
       "      <th>25%</th>\n",
       "      <td>4.510000e+02</td>\n",
       "      <td>4.270000e+02</td>\n",
       "      <td>83.000000</td>\n",
       "    </tr>\n",
       "    <tr>\n",
       "      <th>50%</th>\n",
       "      <td>9.380000e+02</td>\n",
       "      <td>9.990000e+02</td>\n",
       "      <td>278.000000</td>\n",
       "    </tr>\n",
       "    <tr>\n",
       "      <th>75%</th>\n",
       "      <td>2.012000e+03</td>\n",
       "      <td>2.746000e+03</td>\n",
       "      <td>754.000000</td>\n",
       "    </tr>\n",
       "    <tr>\n",
       "      <th>max</th>\n",
       "      <td>4.191080e+06</td>\n",
       "      <td>2.954214e+07</td>\n",
       "      <td>142428.000000</td>\n",
       "    </tr>\n",
       "  </tbody>\n",
       "</table>\n",
       "</div>"
      ],
      "text/plain": [
       "          following     followers        n_posts\n",
       "count  7.460640e+05  7.460640e+05  746064.000000\n",
       "mean   1.734034e+03  1.126961e+04     670.256459\n",
       "std    1.536903e+04  1.553586e+05    1417.273477\n",
       "min    0.000000e+00  0.000000e+00       0.000000\n",
       "25%    4.510000e+02  4.270000e+02      83.000000\n",
       "50%    9.380000e+02  9.990000e+02     278.000000\n",
       "75%    2.012000e+03  2.746000e+03     754.000000\n",
       "max    4.191080e+06  2.954214e+07  142428.000000"
      ]
     },
     "execution_count": 23,
     "metadata": {},
     "output_type": "execute_result"
    }
   ],
   "source": [
    "prof_df.info()\n",
    "print(\"-------------------------------------------------------------------------------------------\")\n",
    "prof_df.describe()"
   ]
  },
  {
   "cell_type": "code",
   "execution_count": 14,
   "metadata": {},
   "outputs": [
    {
     "data": {
      "text/html": [
       "<div>\n",
       "<style scoped>\n",
       "    .dataframe tbody tr th:only-of-type {\n",
       "        vertical-align: middle;\n",
       "    }\n",
       "\n",
       "    .dataframe tbody tr th {\n",
       "        vertical-align: top;\n",
       "    }\n",
       "\n",
       "    .dataframe thead th {\n",
       "        text-align: right;\n",
       "    }\n",
       "</style>\n",
       "<table border=\"1\" class=\"dataframe\">\n",
       "  <thead>\n",
       "    <tr style=\"text-align: right;\">\n",
       "      <th></th>\n",
       "      <th>following</th>\n",
       "      <th>followers</th>\n",
       "      <th>n_posts</th>\n",
       "    </tr>\n",
       "  </thead>\n",
       "  <tbody>\n",
       "    <tr>\n",
       "      <th>following</th>\n",
       "      <td>1.000000</td>\n",
       "      <td>0.018836</td>\n",
       "      <td>0.020581</td>\n",
       "    </tr>\n",
       "    <tr>\n",
       "      <th>followers</th>\n",
       "      <td>0.018836</td>\n",
       "      <td>1.000000</td>\n",
       "      <td>0.099640</td>\n",
       "    </tr>\n",
       "    <tr>\n",
       "      <th>n_posts</th>\n",
       "      <td>0.020581</td>\n",
       "      <td>0.099640</td>\n",
       "      <td>1.000000</td>\n",
       "    </tr>\n",
       "  </tbody>\n",
       "</table>\n",
       "</div>"
      ],
      "text/plain": [
       "           following  followers   n_posts\n",
       "following   1.000000   0.018836  0.020581\n",
       "followers   0.018836   1.000000  0.099640\n",
       "n_posts     0.020581   0.099640  1.000000"
      ]
     },
     "execution_count": 14,
     "metadata": {},
     "output_type": "execute_result"
    }
   ],
   "source": [
    "prof_df.corr()"
   ]
  },
  {
   "cell_type": "code",
   "execution_count": 21,
   "metadata": {},
   "outputs": [
    {
     "data": {
      "text/plain": [
       "sid                    746064\n",
       "profile_id             745830\n",
       "profile_name           745832\n",
       "firstname_lastname     699319\n",
       "description            740674\n",
       "following                7800\n",
       "followers               53497\n",
       "n_posts                 10175\n",
       "url                    724311\n",
       "cts                    745685\n",
       "is_business_account         2\n",
       "dtype: int64"
      ]
     },
     "execution_count": 21,
     "metadata": {},
     "output_type": "execute_result"
    }
   ],
   "source": [
    "prof_df.nunique()"
   ]
  },
  {
   "cell_type": "code",
   "execution_count": 24,
   "metadata": {},
   "outputs": [
    {
     "name": "stdout",
     "output_type": "stream",
     "text": [
      "<class 'pandas.core.frame.DataFrame'>\n",
      "RangeIndex: 1022658 entries, 0 to 1022657\n",
      "Data columns (total 23 columns):\n",
      " #   Column                  Non-Null Count    Dtype  \n",
      "---  ------                  --------------    -----  \n",
      " 0   sid                     1022658 non-null  int64  \n",
      " 1   id                      1022658 non-null  int64  \n",
      " 2   name                    1022658 non-null  object \n",
      " 3   street                  715704 non-null   object \n",
      " 4   zip                     715579 non-null   object \n",
      " 5   city                    937166 non-null   object \n",
      " 6   region                  1760 non-null     object \n",
      " 7   cd                      939010 non-null   object \n",
      " 8   phone                   601688 non-null   object \n",
      " 9   aj_exact_city_match     1000510 non-null  object \n",
      " 10  aj_exact_country_match  1000510 non-null  object \n",
      " 11  blurb                   406705 non-null   object \n",
      " 12  dir_city_id             495698 non-null   object \n",
      " 13  dir_city_name           495698 non-null   object \n",
      " 14  dir_city_slug           495221 non-null   object \n",
      " 15  dir_country_id          495628 non-null   object \n",
      " 16  dir_country_name        495698 non-null   object \n",
      " 17  lat                     1016495 non-null  float64\n",
      " 18  lng                     1016495 non-null  float64\n",
      " 19  primary_alias_on_fb     425531 non-null   object \n",
      " 20  slug                    941668 non-null   object \n",
      " 21  website                 623262 non-null   object \n",
      " 22  cts                     1022658 non-null  object \n",
      "dtypes: float64(2), int64(2), object(19)\n",
      "memory usage: 179.5+ MB\n",
      "-------------------------------------------------------------------------------------------\n"
     ]
    },
    {
     "data": {
      "text/html": [
       "<div>\n",
       "<style scoped>\n",
       "    .dataframe tbody tr th:only-of-type {\n",
       "        vertical-align: middle;\n",
       "    }\n",
       "\n",
       "    .dataframe tbody tr th {\n",
       "        vertical-align: top;\n",
       "    }\n",
       "\n",
       "    .dataframe thead th {\n",
       "        text-align: right;\n",
       "    }\n",
       "</style>\n",
       "<table border=\"1\" class=\"dataframe\">\n",
       "  <thead>\n",
       "    <tr style=\"text-align: right;\">\n",
       "      <th></th>\n",
       "      <th>sid</th>\n",
       "      <th>id</th>\n",
       "      <th>lat</th>\n",
       "      <th>lng</th>\n",
       "    </tr>\n",
       "  </thead>\n",
       "  <tbody>\n",
       "    <tr>\n",
       "      <th>count</th>\n",
       "      <td>1.022658e+06</td>\n",
       "      <td>1.022658e+06</td>\n",
       "      <td>1.016495e+06</td>\n",
       "      <td>1.016495e+06</td>\n",
       "    </tr>\n",
       "    <tr>\n",
       "      <th>mean</th>\n",
       "      <td>5.274856e+05</td>\n",
       "      <td>3.152851e+14</td>\n",
       "      <td>-1.529215e+01</td>\n",
       "      <td>3.421718e+01</td>\n",
       "    </tr>\n",
       "    <tr>\n",
       "      <th>std</th>\n",
       "      <td>2.994567e+05</td>\n",
       "      <td>5.795031e+14</td>\n",
       "      <td>7.615085e+01</td>\n",
       "      <td>2.201081e+01</td>\n",
       "    </tr>\n",
       "    <tr>\n",
       "      <th>min</th>\n",
       "      <td>1.000000e+00</td>\n",
       "      <td>7.000000e+00</td>\n",
       "      <td>-1.799830e+02</td>\n",
       "      <td>-9.000000e+01</td>\n",
       "    </tr>\n",
       "    <tr>\n",
       "      <th>25%</th>\n",
       "      <td>2.688392e+05</td>\n",
       "      <td>2.522377e+08</td>\n",
       "      <td>-8.015575e+01</td>\n",
       "      <td>2.997554e+01</td>\n",
       "    </tr>\n",
       "    <tr>\n",
       "      <th>50%</th>\n",
       "      <td>5.300405e+05</td>\n",
       "      <td>8.573350e+08</td>\n",
       "      <td>-2.450000e+00</td>\n",
       "      <td>4.067820e+01</td>\n",
       "    </tr>\n",
       "    <tr>\n",
       "      <th>75%</th>\n",
       "      <td>7.866598e+05</td>\n",
       "      <td>3.304662e+14</td>\n",
       "      <td>3.071740e+01</td>\n",
       "      <td>4.884722e+01</td>\n",
       "    </tr>\n",
       "    <tr>\n",
       "      <th>max</th>\n",
       "      <td>1.043657e+06</td>\n",
       "      <td>2.402148e+16</td>\n",
       "      <td>1.799941e+02</td>\n",
       "      <td>8.999870e+01</td>\n",
       "    </tr>\n",
       "  </tbody>\n",
       "</table>\n",
       "</div>"
      ],
      "text/plain": [
       "                sid            id           lat           lng\n",
       "count  1.022658e+06  1.022658e+06  1.016495e+06  1.016495e+06\n",
       "mean   5.274856e+05  3.152851e+14 -1.529215e+01  3.421718e+01\n",
       "std    2.994567e+05  5.795031e+14  7.615085e+01  2.201081e+01\n",
       "min    1.000000e+00  7.000000e+00 -1.799830e+02 -9.000000e+01\n",
       "25%    2.688392e+05  2.522377e+08 -8.015575e+01  2.997554e+01\n",
       "50%    5.300405e+05  8.573350e+08 -2.450000e+00  4.067820e+01\n",
       "75%    7.866598e+05  3.304662e+14  3.071740e+01  4.884722e+01\n",
       "max    1.043657e+06  2.402148e+16  1.799941e+02  8.999870e+01"
      ]
     },
     "execution_count": 24,
     "metadata": {},
     "output_type": "execute_result"
    }
   ],
   "source": [
    "loc_df.info()\n",
    "print(\"-------------------------------------------------------------------------------------------\")\n",
    "loc_df.describe()"
   ]
  },
  {
   "cell_type": "code",
   "execution_count": 15,
   "metadata": {},
   "outputs": [
    {
     "data": {
      "text/html": [
       "<div>\n",
       "<style scoped>\n",
       "    .dataframe tbody tr th:only-of-type {\n",
       "        vertical-align: middle;\n",
       "    }\n",
       "\n",
       "    .dataframe tbody tr th {\n",
       "        vertical-align: top;\n",
       "    }\n",
       "\n",
       "    .dataframe thead th {\n",
       "        text-align: right;\n",
       "    }\n",
       "</style>\n",
       "<table border=\"1\" class=\"dataframe\">\n",
       "  <thead>\n",
       "    <tr style=\"text-align: right;\">\n",
       "      <th></th>\n",
       "      <th>sid</th>\n",
       "      <th>id</th>\n",
       "      <th>lat</th>\n",
       "      <th>lng</th>\n",
       "    </tr>\n",
       "  </thead>\n",
       "  <tbody>\n",
       "    <tr>\n",
       "      <th>sid</th>\n",
       "      <td>1.000000</td>\n",
       "      <td>0.043573</td>\n",
       "      <td>0.185049</td>\n",
       "      <td>0.009029</td>\n",
       "    </tr>\n",
       "    <tr>\n",
       "      <th>id</th>\n",
       "      <td>0.043573</td>\n",
       "      <td>1.000000</td>\n",
       "      <td>0.065300</td>\n",
       "      <td>-0.022569</td>\n",
       "    </tr>\n",
       "    <tr>\n",
       "      <th>lat</th>\n",
       "      <td>0.185049</td>\n",
       "      <td>0.065300</td>\n",
       "      <td>1.000000</td>\n",
       "      <td>-0.205567</td>\n",
       "    </tr>\n",
       "    <tr>\n",
       "      <th>lng</th>\n",
       "      <td>0.009029</td>\n",
       "      <td>-0.022569</td>\n",
       "      <td>-0.205567</td>\n",
       "      <td>1.000000</td>\n",
       "    </tr>\n",
       "  </tbody>\n",
       "</table>\n",
       "</div>"
      ],
      "text/plain": [
       "          sid        id       lat       lng\n",
       "sid  1.000000  0.043573  0.185049  0.009029\n",
       "id   0.043573  1.000000  0.065300 -0.022569\n",
       "lat  0.185049  0.065300  1.000000 -0.205567\n",
       "lng  0.009029 -0.022569 -0.205567  1.000000"
      ]
     },
     "execution_count": 15,
     "metadata": {},
     "output_type": "execute_result"
    }
   ],
   "source": [
    "loc_df.corr()"
   ]
  },
  {
   "cell_type": "code",
   "execution_count": 19,
   "metadata": {},
   "outputs": [
    {
     "data": {
      "text/plain": [
       "sid                       1022658\n",
       "id                        1022658\n",
       "name                       935776\n",
       "street                     656262\n",
       "zip                        181474\n",
       "city                       118541\n",
       "region                       1743\n",
       "cd                            245\n",
       "phone                      577305\n",
       "aj_exact_city_match             2\n",
       "aj_exact_country_match          2\n",
       "blurb                      399340\n",
       "dir_city_id                121685\n",
       "dir_city_name              114996\n",
       "dir_city_slug              114426\n",
       "dir_country_id                234\n",
       "dir_country_name              235\n",
       "lat                        921025\n",
       "lng                        899919\n",
       "primary_alias_on_fb        425486\n",
       "slug                       833398\n",
       "website                    583671\n",
       "cts                       1022298\n",
       "dtype: int64"
      ]
     },
     "execution_count": 19,
     "metadata": {},
     "output_type": "execute_result"
    }
   ],
   "source": [
    "loc_df.nunique()"
   ]
  },
  {
   "cell_type": "code",
   "execution_count": null,
   "metadata": {},
   "outputs": [],
   "source": []
  },
  {
   "cell_type": "markdown",
   "metadata": {},
   "source": [
    "# Problem 2"
   ]
  },
  {
   "cell_type": "markdown",
   "metadata": {},
   "source": [
    "### task 2.1"
   ]
  },
  {
   "cell_type": "code",
   "execution_count": 29,
   "metadata": {},
   "outputs": [
    {
     "data": {
      "text/plain": [
       "[]"
      ]
     },
     "execution_count": 29,
     "metadata": {},
     "output_type": "execute_result"
    },
    {
     "data": {
      "image/png": "[encoded data removed]",
      "text/plain": [
       "<Figure size 432x288 with 1 Axes>"
      ]
     },
     "metadata": {
      "needs_background": "light"
     },
     "output_type": "display_data"
    }
   ],
   "source": [
    "posts = df.groupby(['profile_id']).size().sort_values(ascending=False)\n",
    "ids = list(posts.index)\n",
    "num_posts = posts.to_numpy()\n",
    "#print(ids[:50])\n",
    "#print(num_posts[:50])\n",
    "#plt.scatter(np.arange(len(num_posts)),num_posts)\n",
    "plt.plot(np.arange(len(num_posts)),num_posts,'o')\n",
    "plt.plot()"
   ]
  },
  {
   "cell_type": "markdown",
   "metadata": {},
   "source": [
    "### Task 2.2"
   ]
  },
  {
   "cell_type": "code",
   "execution_count": 30,
   "metadata": {},
   "outputs": [
    {
     "name": "stdout",
     "output_type": "stream",
     "text": [
      "         profile_id  number_likes\n",
      "313806   4731970969       1963123\n",
      "918473    191110424       1376659\n",
      "233650   1408289748       1355678\n",
      "712304    270902355       1153291\n",
      "573395   3439002676       1043810\n",
      "...             ...           ...\n",
      "355346  12654465284             0\n",
      "265241  12408540820             0\n",
      "320141    294518245             0\n",
      "82812    9364842776             0\n",
      "239344   1137183274             0\n",
      "\n",
      "[914676 rows x 2 columns]\n"
     ]
    }
   ],
   "source": [
    "high_likes = df.sort_values(['number_likes'],ascending=False)\n",
    "print(high_likes[['profile_id','number_likes']])"
   ]
  },
  {
   "cell_type": "markdown",
   "metadata": {},
   "source": [
    "### Task 2.3"
   ]
  },
  {
   "cell_type": "code",
   "execution_count": 32,
   "metadata": {},
   "outputs": [
    {
     "name": "stdout",
     "output_type": "stream",
     "text": [
      "        profile_id  number_comments\n",
      "242837    55336452           135221\n",
      "579112    11884528            56686\n",
      "313806  4731970969            53878\n",
      "377722     7396934            32505\n",
      "50077   3950062135            31655\n",
      "...            ...              ...\n",
      "500522   350972063                0\n",
      "500517  2000005727                0\n",
      "500514  4546289729                0\n",
      "500508   295173999                0\n",
      "498760  3141091213                0\n",
      "\n",
      "[914676 rows x 2 columns]\n"
     ]
    },
    {
     "data": {
      "text/html": [
       "<div>\n",
       "<style scoped>\n",
       "    .dataframe tbody tr th:only-of-type {\n",
       "        vertical-align: middle;\n",
       "    }\n",
       "\n",
       "    .dataframe tbody tr th {\n",
       "        vertical-align: top;\n",
       "    }\n",
       "\n",
       "    .dataframe thead th {\n",
       "        text-align: right;\n",
       "    }\n",
       "</style>\n",
       "<table border=\"1\" class=\"dataframe\">\n",
       "  <thead>\n",
       "    <tr style=\"text-align: right;\">\n",
       "      <th></th>\n",
       "      <th>sid</th>\n",
       "      <th>sid_profile</th>\n",
       "      <th>post_id</th>\n",
       "      <th>profile_id</th>\n",
       "      <th>location_id</th>\n",
       "      <th>cts</th>\n",
       "      <th>post_type</th>\n",
       "      <th>description</th>\n",
       "      <th>number_likes</th>\n",
       "      <th>number_comments</th>\n",
       "    </tr>\n",
       "  </thead>\n",
       "  <tbody>\n",
       "    <tr>\n",
       "      <th>242837</th>\n",
       "      <td>8685123</td>\n",
       "      <td>3335216</td>\n",
       "      <td>BQ_N0bzhTSL</td>\n",
       "      <td>55336452</td>\n",
       "      <td>214704942</td>\n",
       "      <td>2017-02-26 21:11:28.000</td>\n",
       "      <td>1</td>\n",
       "      <td>🍔🍟❤️</td>\n",
       "      <td>44218</td>\n",
       "      <td>135221</td>\n",
       "    </tr>\n",
       "    <tr>\n",
       "      <th>579112</th>\n",
       "      <td>28958520</td>\n",
       "      <td>327578</td>\n",
       "      <td>BmORc4znzzA</td>\n",
       "      <td>11884528</td>\n",
       "      <td>403373609</td>\n",
       "      <td>2018-08-08 17:31:05.000</td>\n",
       "      <td>1</td>\n",
       "      <td>Party in the castle with @benefitcosmetics 🎉 \\...</td>\n",
       "      <td>427826</td>\n",
       "      <td>56686</td>\n",
       "    </tr>\n",
       "    <tr>\n",
       "      <th>313806</th>\n",
       "      <td>25304553</td>\n",
       "      <td>419203</td>\n",
       "      <td>BxrapKyCgg0</td>\n",
       "      <td>4731970969</td>\n",
       "      <td>361936204</td>\n",
       "      <td>2019-05-20 10:54:43.000</td>\n",
       "      <td>1</td>\n",
       "      <td>Склав присягу.</td>\n",
       "      <td>1963123</td>\n",
       "      <td>53878</td>\n",
       "    </tr>\n",
       "    <tr>\n",
       "      <th>377722</th>\n",
       "      <td>28754557</td>\n",
       "      <td>3358761</td>\n",
       "      <td>Bbz6IBXhKgg</td>\n",
       "      <td>7396934</td>\n",
       "      <td>254744290</td>\n",
       "      <td>2017-11-22 21:33:04.000</td>\n",
       "      <td>1</td>\n",
       "      <td>Спасибо вам за все! Всех обнял! Я дома, все но...</td>\n",
       "      <td>81457</td>\n",
       "      <td>32505</td>\n",
       "    </tr>\n",
       "    <tr>\n",
       "      <th>50077</th>\n",
       "      <td>26831113</td>\n",
       "      <td>3234490</td>\n",
       "      <td>BuvfTmgFsuY</td>\n",
       "      <td>3950062135</td>\n",
       "      <td>35301594</td>\n",
       "      <td>2019-03-08 10:18:14.000</td>\n",
       "      <td>1</td>\n",
       "      <td>COMPETITION CLOSED. The winner is @abbie__will...</td>\n",
       "      <td>3867</td>\n",
       "      <td>31655</td>\n",
       "    </tr>\n",
       "  </tbody>\n",
       "</table>\n",
       "</div>"
      ],
      "text/plain": [
       "             sid  sid_profile      post_id  profile_id  location_id  \\\n",
       "242837   8685123      3335216  BQ_N0bzhTSL    55336452    214704942   \n",
       "579112  28958520       327578  BmORc4znzzA    11884528    403373609   \n",
       "313806  25304553       419203  BxrapKyCgg0  4731970969    361936204   \n",
       "377722  28754557      3358761  Bbz6IBXhKgg     7396934    254744290   \n",
       "50077   26831113      3234490  BuvfTmgFsuY  3950062135     35301594   \n",
       "\n",
       "                            cts  post_type  \\\n",
       "242837  2017-02-26 21:11:28.000          1   \n",
       "579112  2018-08-08 17:31:05.000          1   \n",
       "313806  2019-05-20 10:54:43.000          1   \n",
       "377722  2017-11-22 21:33:04.000          1   \n",
       "50077   2019-03-08 10:18:14.000          1   \n",
       "\n",
       "                                              description  number_likes  \\\n",
       "242837                                               🍔🍟❤️         44218   \n",
       "579112  Party in the castle with @benefitcosmetics 🎉 \\...        427826   \n",
       "313806                                     Склав присягу.       1963123   \n",
       "377722  Спасибо вам за все! Всех обнял! Я дома, все но...         81457   \n",
       "50077   COMPETITION CLOSED. The winner is @abbie__will...          3867   \n",
       "\n",
       "        number_comments  \n",
       "242837           135221  \n",
       "579112            56686  \n",
       "313806            53878  \n",
       "377722            32505  \n",
       "50077             31655  "
      ]
     },
     "execution_count": 32,
     "metadata": {},
     "output_type": "execute_result"
    }
   ],
   "source": [
    "num_comments = df.sort_values(['number_comments'],ascending=False)\n",
    "print(num_comments[['profile_id','number_comments']])\n",
    "num_comments.head(5)"
   ]
  },
  {
   "cell_type": "code",
   "execution_count": 33,
   "metadata": {},
   "outputs": [
    {
     "data": {
      "text/html": [
       "<div>\n",
       "<style scoped>\n",
       "    .dataframe tbody tr th:only-of-type {\n",
       "        vertical-align: middle;\n",
       "    }\n",
       "\n",
       "    .dataframe tbody tr th {\n",
       "        vertical-align: top;\n",
       "    }\n",
       "\n",
       "    .dataframe thead th {\n",
       "        text-align: right;\n",
       "    }\n",
       "</style>\n",
       "<table border=\"1\" class=\"dataframe\">\n",
       "  <thead>\n",
       "    <tr style=\"text-align: right;\">\n",
       "      <th></th>\n",
       "      <th>sid</th>\n",
       "      <th>sid_profile</th>\n",
       "      <th>post_id</th>\n",
       "      <th>profile_id</th>\n",
       "      <th>location_id</th>\n",
       "      <th>cts</th>\n",
       "      <th>post_type</th>\n",
       "      <th>description</th>\n",
       "      <th>number_likes</th>\n",
       "      <th>number_comments</th>\n",
       "    </tr>\n",
       "  </thead>\n",
       "  <tbody>\n",
       "    <tr>\n",
       "      <th>500522</th>\n",
       "      <td>28879031</td>\n",
       "      <td>-1</td>\n",
       "      <td>BmrunIDH_yo</td>\n",
       "      <td>350972063</td>\n",
       "      <td>301652848</td>\n",
       "      <td>2018-08-20 04:03:52.000</td>\n",
       "      <td>1</td>\n",
       "      <td>More from the art museum today. Kansas City, y...</td>\n",
       "      <td>13</td>\n",
       "      <td>0</td>\n",
       "    </tr>\n",
       "    <tr>\n",
       "      <th>500517</th>\n",
       "      <td>28879026</td>\n",
       "      <td>-1</td>\n",
       "      <td>Bm9yVfTH1Tu</td>\n",
       "      <td>2000005727</td>\n",
       "      <td>301652848</td>\n",
       "      <td>2018-08-27 04:22:44.000</td>\n",
       "      <td>1</td>\n",
       "      <td>🌳</td>\n",
       "      <td>33</td>\n",
       "      <td>0</td>\n",
       "    </tr>\n",
       "    <tr>\n",
       "      <th>500514</th>\n",
       "      <td>28879023</td>\n",
       "      <td>-1</td>\n",
       "      <td>BnWvAomh3xk</td>\n",
       "      <td>4546289729</td>\n",
       "      <td>301652848</td>\n",
       "      <td>2018-09-05 20:54:41.000</td>\n",
       "      <td>1</td>\n",
       "      <td>Ohana⚡️</td>\n",
       "      <td>88</td>\n",
       "      <td>0</td>\n",
       "    </tr>\n",
       "    <tr>\n",
       "      <th>500508</th>\n",
       "      <td>28879013</td>\n",
       "      <td>-1</td>\n",
       "      <td>BxTRvoOFQjM</td>\n",
       "      <td>295173999</td>\n",
       "      <td>7626200</td>\n",
       "      <td>2019-05-11 01:55:11.000</td>\n",
       "      <td>1</td>\n",
       "      <td>2 years down🤪</td>\n",
       "      <td>68</td>\n",
       "      <td>0</td>\n",
       "    </tr>\n",
       "    <tr>\n",
       "      <th>498760</th>\n",
       "      <td>28877251</td>\n",
       "      <td>-1</td>\n",
       "      <td>Bx51KitBWNj</td>\n",
       "      <td>3141091213</td>\n",
       "      <td>300223320</td>\n",
       "      <td>2019-05-26 01:15:50.000</td>\n",
       "      <td>1</td>\n",
       "      <td>Beautiful program of Mozart, Beethoven, Coulth...</td>\n",
       "      <td>23</td>\n",
       "      <td>0</td>\n",
       "    </tr>\n",
       "  </tbody>\n",
       "</table>\n",
       "</div>"
      ],
      "text/plain": [
       "             sid  sid_profile      post_id  profile_id  location_id  \\\n",
       "500522  28879031           -1  BmrunIDH_yo   350972063    301652848   \n",
       "500517  28879026           -1  Bm9yVfTH1Tu  2000005727    301652848   \n",
       "500514  28879023           -1  BnWvAomh3xk  4546289729    301652848   \n",
       "500508  28879013           -1  BxTRvoOFQjM   295173999      7626200   \n",
       "498760  28877251           -1  Bx51KitBWNj  3141091213    300223320   \n",
       "\n",
       "                            cts  post_type  \\\n",
       "500522  2018-08-20 04:03:52.000          1   \n",
       "500517  2018-08-27 04:22:44.000          1   \n",
       "500514  2018-09-05 20:54:41.000          1   \n",
       "500508  2019-05-11 01:55:11.000          1   \n",
       "498760  2019-05-26 01:15:50.000          1   \n",
       "\n",
       "                                              description  number_likes  \\\n",
       "500522  More from the art museum today. Kansas City, y...            13   \n",
       "500517                                                  🌳            33   \n",
       "500514                                            Ohana⚡️            88   \n",
       "500508                                      2 years down🤪            68   \n",
       "498760  Beautiful program of Mozart, Beethoven, Coulth...            23   \n",
       "\n",
       "        number_comments  \n",
       "500522                0  \n",
       "500517                0  \n",
       "500514                0  \n",
       "500508                0  \n",
       "498760                0  "
      ]
     },
     "execution_count": 33,
     "metadata": {},
     "output_type": "execute_result"
    }
   ],
   "source": [
    "num_comments.tail(5)"
   ]
  },
  {
   "cell_type": "markdown",
   "metadata": {},
   "source": [
    "### Task 2.4"
   ]
  },
  {
   "cell_type": "code",
   "execution_count": 34,
   "metadata": {},
   "outputs": [
    {
     "name": "stdout",
     "output_type": "stream",
     "text": [
      "number of posts with locations    49\n"
     ]
    }
   ],
   "source": [
    "_sid = df['sid'].to_numpy()\n",
    "#print(_sid)\n",
    "_tdf = pd.DataFrame()\n",
    "cnt = 0\n",
    "for i in range(len(_sid)):\n",
    "    #temp = loc_df[loc_df['sid'] == _sid[i]]\n",
    "    #_tdf = pd.concat([_tdf, temp])\n",
    "    if _sid[i] in loc_df['sid']:\n",
    "        cnt += 1\n",
    "#print(_tdf)\n",
    "print(\"number of posts with locations   \",cnt)"
   ]
  },
  {
   "cell_type": "code",
   "execution_count": 36,
   "metadata": {},
   "outputs": [
    {
     "data": {
      "image/png": "[encoded data removed]",
      "text/plain": [
       "<Figure size 432x288 with 1 Axes>"
      ]
     },
     "metadata": {
      "needs_background": "light"
     },
     "output_type": "display_data"
    }
   ],
   "source": [
    "plt.bar(['with location','without location'], [cnt, len(_sid - cnt)])\n",
    "plt.title('Number of posts')\n",
    "plt.show()"
   ]
  },
  {
   "cell_type": "markdown",
   "metadata": {},
   "source": [
    "### Task 2.5"
   ]
  },
  {
   "cell_type": "code",
   "execution_count": 37,
   "metadata": {},
   "outputs": [
    {
     "name": "stdout",
     "output_type": "stream",
     "text": [
      "posts with phtos    859900\n",
      "posts with videos    54773\n",
      "posts with both    3\n"
     ]
    }
   ],
   "source": [
    "ph_posts = df[df['post_type'] == 1]\n",
    "print(\"posts with phtos   \",ph_posts.shape[0])\n",
    "v_posts = df[df['post_type'] == 2]\n",
    "print(\"posts with videos   \",v_posts.shape[0])\n",
    "both_posts = df[df['post_type'] == 3]\n",
    "print(\"posts with both   \",both_posts.shape[0])"
   ]
  },
  {
   "cell_type": "markdown",
   "metadata": {},
   "source": [
    "### Task 2.6"
   ]
  },
  {
   "cell_type": "code",
   "execution_count": 39,
   "metadata": {},
   "outputs": [
    {
     "name": "stdout",
     "output_type": "stream",
     "text": [
      "business accounts percent    0.5774973728795385\n",
      "non business accounts percent    0.4225026271204615\n"
     ]
    }
   ],
   "source": [
    "_business = prof_df[prof_df['is_business_account'] == 'true']\n",
    "tot = prof_df.shape[0]\n",
    "print(\"business accounts percent   \", _business.shape[0]/tot)\n",
    "print(\"non business accounts percent   \", (tot - _business.shape[0])/tot)"
   ]
  },
  {
   "cell_type": "code",
   "execution_count": null,
   "metadata": {},
   "outputs": [],
   "source": []
  },
  {
   "cell_type": "markdown",
   "metadata": {},
   "source": [
    "# Problem 3"
   ]
  },
  {
   "cell_type": "markdown",
   "metadata": {},
   "source": [
    "### Task 3.1"
   ]
  },
  {
   "cell_type": "code",
   "execution_count": 11,
   "metadata": {},
   "outputs": [
    {
     "name": "stdout",
     "output_type": "stream",
     "text": [
      "hour: 0   --  No. of posts:  34100\n",
      "hour: 1   --  No. of posts:  30594\n",
      "hour: 2   --  No. of posts:  29344\n",
      "hour: 3   --  No. of posts:  27979\n",
      "hour: 4   --  No. of posts:  25449\n",
      "hour: 5   --  No. of posts:  22678\n",
      "hour: 6   --  No. of posts:  20688\n",
      "hour: 7   --  No. of posts:  22184\n",
      "hour: 8   --  No. of posts:  24981\n",
      "hour: 9   --  No. of posts:  28413\n",
      "hour: 10   --  No. of posts:  31051\n",
      "hour: 11   --  No. of posts:  34136\n",
      "hour: 12   --  No. of posts:  37576\n",
      "hour: 13   --  No. of posts:  41099\n",
      "hour: 14   --  No. of posts:  45004\n",
      "hour: 15   --  No. of posts:  47012\n",
      "hour: 16   --  No. of posts:  50241\n",
      "hour: 17   --  No. of posts:  52994\n",
      "hour: 18   --  No. of posts:  55155\n",
      "hour: 19   --  No. of posts:  55780\n",
      "hour: 20   --  No. of posts:  55645\n",
      "hour: 21   --  No. of posts:  53924\n",
      "hour: 22   --  No. of posts:  48046\n",
      "hour: 23   --  No. of posts:  40603\n"
     ]
    }
   ],
   "source": [
    "def count_posts_in_tint():\n",
    "    p_time = df['cts'].to_numpy()\n",
    "    time_int = []\n",
    "    for i in range(len(p_time)):\n",
    "        temp = p_time[i].split(' ')\n",
    "        time_int.append(int(temp[1][:2]))\n",
    "    #print(time_int[:20])\n",
    "    time_counts = []\n",
    "    for i in range(24):\n",
    "        time_counts.append(time_int.count(i))\n",
    "    return time_counts\n",
    "ret = count_posts_in_tint()\n",
    "for i in range(len(ret)):\n",
    "    print(\"hour:\",i,\"  --  No. of posts: \",ret[i])"
   ]
  },
  {
   "cell_type": "markdown",
   "metadata": {},
   "source": [
    "### Task 3.2, 3.3"
   ]
  },
  {
   "cell_type": "code",
   "execution_count": 19,
   "metadata": {},
   "outputs": [
    {
     "data": {
      "image/png": "[encoded data removed]",
      "text/plain": [
       "<Figure size 432x288 with 1 Axes>"
      ]
     },
     "metadata": {
      "needs_background": "light"
     },
     "output_type": "display_data"
    },
    {
     "name": "stdout",
     "output_type": "stream",
     "text": [
      "number of posts    [127317, 112811, 142257, 163929, 198218, 94038, 76106]\n"
     ]
    }
   ],
   "source": [
    "def extract_num_posts(df, intervals):\n",
    "    p_time = df['cts'].to_numpy()\n",
    "    time_int = []\n",
    "    for i in range(len(p_time)):\n",
    "        temp = p_time[i].split(' ')\n",
    "        time_int.append(temp[1][:2]+temp[1][3:5]+temp[1][6:8])\n",
    "    \n",
    "    cnt = []\n",
    "    for i in range(len(intervals)):\n",
    "        temp = 0\n",
    "        st_time = intervals[i][0][:2]+intervals[i][0][3:5]+intervals[i][0][6:8]\n",
    "        end_time = intervals[i][1][:2]+intervals[i][1][3:5]+intervals[i][1][6:8]\n",
    "        for j in range(len(time_int)):\n",
    "            if time_int[j] >= st_time and time_int[j] <= end_time:\n",
    "                temp += 1\n",
    "        cnt.append(deepcopy(temp))\n",
    "    plt.bar([i[0][:2]+'-'+i[1][:2] for i in intervals], cnt)\n",
    "    plt.show()\n",
    "    return cnt\n",
    "\n",
    "\n",
    "ret = extract_num_posts(df,[\n",
    "    ['06:00:00','10:59:59'], ['11:00:00','13:59:59'], ['14:00:00','16:59:59'], \n",
    "    ['17:00:00','19:59:59'], ['20:00:00','23:59:59'],['00:00:00','02:59:59'], ['03:00:00','05:59:59']])\n",
    "\n",
    "print(\"number of posts   \",ret)"
   ]
  },
  {
   "cell_type": "code",
   "execution_count": null,
   "metadata": {},
   "outputs": [],
   "source": []
  },
  {
   "cell_type": "markdown",
   "metadata": {},
   "source": [
    "# Problem 4"
   ]
  },
  {
   "cell_type": "markdown",
   "metadata": {},
   "source": [
    "### Task 4.1"
   ]
  },
  {
   "cell_type": "code",
   "execution_count": 20,
   "metadata": {},
   "outputs": [
    {
     "data": {
      "text/plain": [
       "2"
      ]
     },
     "execution_count": 20,
     "metadata": {},
     "output_type": "execute_result"
    }
   ],
   "source": [
    "def posts_of_id(profile_id):\n",
    "    t = df[df['profile_id'] == profile_id]\n",
    "    return t.shape[0]\n",
    "\n",
    "posts_of_id('270902355')"
   ]
  },
  {
   "cell_type": "markdown",
   "metadata": {},
   "source": [
    "### Task 4.2"
   ]
  },
  {
   "cell_type": "code",
   "execution_count": 21,
   "metadata": {},
   "outputs": [
    {
     "name": "stdout",
     "output_type": "stream",
     "text": [
      "[Series([], Name: description, dtype: object), 233067    อ้วนแค่ไหน ทานอะไรก็เอาไม่ลง \\nมาเจอเซทล้มช้าง...\n",
      "241977    อ้วนแค่ไหน ทานอะไรก็เอาไม่ลง \\nมาเจอเซทล้มช้าง...\n",
      "319192    อ้วนแค่ไหน ทานอะไรก็เอาไม่ลง \\nมาเจอเซทล้มช้าง...\n",
      "637098    📞 สนใจตัวช่วย#dwfifteen🔥เพิ่มการเผาผลาญไขมัน\\n...\n",
      "Name: description, dtype: object, 494943    #gamt 1,290 free ems #gamtthailand #gamtsungla...\n",
      "637087    📞 สนใจตัวช่วย#dwfifteen🔥เพิ่มการเผาผลาญไขมัน\\n...\n",
      "Name: description, dtype: object, Series([], Name: description, dtype: object), Series([], Name: description, dtype: object), Series([], Name: description, dtype: object), 153115    เช้าๆ แบบนี้ ⛅\\n️ อย่าลืมทาน dwfifteen 💕 ก่อนอ...\n",
      "233055    อ้วนแค่ไหน ทานอะไรก็เอาไม่ลง \\nมาเจอเซทล้มช้าง...\n",
      "241969    อ้วนแค่ไหน ทานอะไรก็เอาไม่ลง \\nมาเจอเซทล้มช้าง...\n",
      "241975    เช้าๆ แบบนี้ ⛅\\n️ อย่าลืมทาน dwfifteen 💕 ก่อนอ...\n",
      "Name: description, dtype: object, 220169    #gamt 1290.- #แม่สะดวกแบบนี้ #แม่ค้าออนไลน์ #เ...\n",
      "Name: description, dtype: object, Series([], Name: description, dtype: object), Series([], Name: description, dtype: object), 153116    เช้าๆ แบบนี้ ⛅\\n️ อย่าลืมทาน dwfifteen 💕 ก่อนอ...\n",
      "241976    อ้วนแค่ไหน ทานอะไรก็เอาไม่ลง \\nมาเจอเซทล้มช้าง...\n",
      "319181    อ้วนแค่ไหน ทานอะไรก็เอาไม่ลง \\nมาเจอเซทล้มช้าง...\n",
      "637086    📞 สนใจตัวช่วย#dwfifteen🔥เพิ่มการเผาผลาญไขมัน\\n...\n",
      "Name: description, dtype: object, Series([], Name: description, dtype: object), Series([], Name: description, dtype: object), Series([], Name: description, dtype: object), Series([], Name: description, dtype: object), Series([], Name: description, dtype: object), Series([], Name: description, dtype: object), 50504    Длинный шелковый халат с кружевом на рукавах и...\n",
      "Name: description, dtype: object, Series([], Name: description, dtype: object), Series([], Name: description, dtype: object), Series([], Name: description, dtype: object), Series([], Name: description, dtype: object), Series([], Name: description, dtype: object), Series([], Name: description, dtype: object), 613361    393 🔸 Tom Ford ботфорты\\nМаркировка 36,5\\nСтел...\n",
      "623686    Р38🔸 Срочно 🔥🔥🔥\\nКуртка Valentino \\nВышивка- р...\n",
      "623687    15🔸 Новые солнечные очки Dolce&Gabbana,цена 11...\n",
      "666650    51🔸 Жакет Chanel, твид. Классическая модель с ...\n",
      "675280    К247🔸 LV в отличном состоянии,присутствует лёг...\n",
      "675281    К247🔸 Dior клатч ,в отличном состоянии,подклад...\n",
      "675282    К247🔸 2150.Новые босоножки VALENTINO в бархате...\n",
      "757155    Р38🔸 Роскошный Соболь Braschi маркировка 42ит ...\n",
      "940375    К583🔸 Шорты Dolce and Gabbana, p.46 it ,в отли...\n",
      "Name: description, dtype: object]\n"
     ]
    }
   ],
   "source": [
    "def n_top_ids(n,prof_df):\n",
    "    prof_ids = prof_df.sort_values(['n_posts'],ascending=False)['profile_id']\n",
    "    prof_ids = prof_ids.to_numpy()[:n]\n",
    "    posts = []\n",
    "    for i in range(n):\n",
    "        t = df[df['profile_id'] == prof_ids[i]]\n",
    "        posts.append(t['description'])\n",
    "    print(posts)\n",
    "n_top_ids(25, prof_df)"
   ]
  },
  {
   "cell_type": "markdown",
   "metadata": {},
   "source": [
    "### Task 4.3"
   ]
  },
  {
   "cell_type": "code",
   "execution_count": 22,
   "metadata": {},
   "outputs": [
    {
     "name": "stdout",
     "output_type": "stream",
     "text": [
      "mean likes    1.24\n"
     ]
    }
   ],
   "source": [
    "def mean_likes(n):\n",
    "    prof_ids = prof_df.sort_values(['n_posts'],ascending=False)['profile_id']\n",
    "    prof_ids = prof_ids.to_numpy()[:n]\n",
    "    \n",
    "    posts = pd.DataFrame()\n",
    "    for i in range(n):\n",
    "        t = df[df['profile_id'] == prof_ids[i]]\n",
    "        #posts.append(t[['number_likes', 'number_comments']])\n",
    "        posts = pd.concat([posts, t])\n",
    "    #print(posts)\n",
    "    _mean = posts['number_likes'].mean()\n",
    "    return _mean\n",
    "    \n",
    "print(\"mean likes   \",mean_likes(25))"
   ]
  },
  {
   "cell_type": "markdown",
   "metadata": {},
   "source": [
    "### Task 4.4"
   ]
  },
  {
   "cell_type": "code",
   "execution_count": 23,
   "metadata": {},
   "outputs": [
    {
     "data": {
      "image/png": "[encoded data removed]",
      "text/plain": [
       "<Figure size 432x288 with 1 Axes>"
      ]
     },
     "metadata": {
      "needs_background": "light"
     },
     "output_type": "display_data"
    },
    {
     "name": "stdout",
     "output_type": "stream",
     "text": [
      "number of posts    [7, 3, 5, 1, 4, 0, 5]\n"
     ]
    }
   ],
   "source": [
    "def num_posts_of_tops(n):\n",
    "    prof_ids = prof_df.sort_values(['n_posts'],ascending=False)['profile_id']\n",
    "    prof_ids = prof_ids.to_numpy()[:n]\n",
    "    posts = pd.DataFrame()\n",
    "    for i in range(n):\n",
    "        t = df[df['profile_id'] == prof_ids[i]]\n",
    "        posts = pd.concat([posts, t])\n",
    "    ret = extract_num_posts(posts,[\n",
    "        ['06:00:00','10:59:59'], ['11:00:00','13:59:59'], ['14:00:00','16:59:59'], \n",
    "        ['17:00:00','19:59:59'], ['20:00:00','23:59:59'],['00:00:00','02:59:59'], ['03:00:00','05:59:59']])\n",
    "    \n",
    "    return ret\n",
    "    \n",
    "_n = num_posts_of_tops(25)\n",
    "print(\"number of posts   \",_n)"
   ]
  },
  {
   "cell_type": "code",
   "execution_count": null,
   "metadata": {},
   "outputs": [],
   "source": []
  },
  {
   "cell_type": "markdown",
   "metadata": {},
   "source": [
    "# Problem 5"
   ]
  },
  {
   "cell_type": "markdown",
   "metadata": {},
   "source": [
    "### Task 5.1"
   ]
  },
  {
   "cell_type": "code",
   "execution_count": 24,
   "metadata": {},
   "outputs": [
    {
     "name": "stdout",
     "output_type": "stream",
     "text": [
      "profile id:  496865116   ---   number of posts:  29542143\n",
      "profile id:  23410080   ---   number of posts:  29176804\n",
      "profile id:  907025384   ---   number of posts:  26252169\n",
      "profile id:  10245870   ---   number of posts:  25021371\n",
      "profile id:  3261799   ---   number of posts:  22319485\n"
     ]
    }
   ],
   "source": [
    "def no_of_posts_top(n):\n",
    "    prof_ids = prof_df.sort_values(['followers'],ascending=False)[['profile_id','followers']]\n",
    "    prof_ids = prof_ids.to_numpy()[:n]\n",
    "    \n",
    "    return prof_ids\n",
    "    \n",
    "a = no_of_posts_top(5)\n",
    "for i in range(len(a)):\n",
    "    print(\"profile id: \",a[i][0],\"  ---   number of posts: \", a[i][1])"
   ]
  },
  {
   "cell_type": "markdown",
   "metadata": {},
   "source": [
    "### Task 5.2"
   ]
  },
  {
   "cell_type": "code",
   "execution_count": 26,
   "metadata": {},
   "outputs": [
    {
     "name": "stdout",
     "output_type": "stream",
     "text": [
      "most influential user\n",
      "instagram id:    andresiniesta8\n",
      "full name:       andresiniesta8\n"
     ]
    }
   ],
   "source": [
    "def influential_user():\n",
    "    prof_ids = prof_df.sort_values(['followers'],ascending=False)\n",
    "    prof_ids = prof_ids.to_numpy()[0]\n",
    "    return prof_ids\n",
    "    \n",
    "a = influential_user()\n",
    "print(\"most influential user\")\n",
    "print(\"instagram id:   \", a[2])\n",
    "print(\"full name:      \", a[2])"
   ]
  },
  {
   "cell_type": "markdown",
   "metadata": {},
   "source": [
    "### Task 5.3"
   ]
  },
  {
   "cell_type": "code",
   "execution_count": 34,
   "metadata": {},
   "outputs": [
    {
     "name": "stdout",
     "output_type": "stream",
     "text": [
      "city:   New York, New York   --       No of posts:  29954\n",
      "city:   Moscow, Russia   --       No of posts:  21087\n",
      "city:   London, United Kingdom   --       No of posts:  20251\n",
      "city:   Saint Petersburg, Russia   --       No of posts:  8636\n",
      "city:   Los Angeles, California   --       No of posts:  7175\n",
      "city:   Brooklyn, New York   --       No of posts:  5976\n",
      "city:   Paris, France   --       No of posts:  5729\n",
      "city:   Chicago, Illinois   --       No of posts:  5284\n",
      "city:   Toronto, Ontario   --       No of posts:  4189\n",
      "city:   Seoul, Korea   --       No of posts:  3865\n",
      "city:   São Paulo, Brazil   --       No of posts:  3651\n",
      "city:   San Francisco, California   --       No of posts:  3585\n",
      "city:   Bangkok, Thailand   --       No of posts:  3547\n",
      "city:   Philadelphia, Pennsylvania   --       No of posts:  3088\n",
      "city:   Washington, District of Columbia   --       No of posts:  3076\n",
      "city:   Houston, Texas   --       No of posts:  2981\n",
      "city:   Las Vegas, Nevada   --       No of posts:  2867\n",
      "city:   Miami, Florida   --       No of posts:  2824\n",
      "city:   Atlanta, Georgia   --       No of posts:  2824\n",
      "city:   Singapore   --       No of posts:  2817\n"
     ]
    }
   ],
   "source": [
    "city_count = loc_df.groupby(['city']).size().sort_values(ascending=False)\n",
    "cities = city_count.index.to_numpy()\n",
    "city_count = city_count.to_numpy()\n",
    "#print('cities', cities)\n",
    "#print(city_count)\n",
    "\n",
    "for i in range(min(len(city_count), 20)):\n",
    "    print(\"city:  \", cities[i],\"  --       No of posts: \", city_count[i])"
   ]
  },
  {
   "cell_type": "markdown",
   "metadata": {},
   "source": [
    "### Task 5.4"
   ]
  },
  {
   "cell_type": "code",
   "execution_count": 46,
   "metadata": {},
   "outputs": [
    {
     "name": "stdout",
     "output_type": "stream",
     "text": [
      "posts with phtos:    0.9401143137023383\n",
      "posts with videos:   0.059882406447747616\n",
      "posts with both:     3.2798499140679324e-06\n"
     ]
    },
    {
     "data": {
      "image/png": "[encoded data removed]",
      "text/plain": [
       "<Figure size 432x288 with 1 Axes>"
      ]
     },
     "metadata": {
      "needs_background": "light"
     },
     "output_type": "display_data"
    }
   ],
   "source": [
    "tot_posts = df.shape[0]\n",
    "ph_posts = df[df['post_type'] == 1]\n",
    "print(\"posts with phtos:   \",ph_posts.shape[0]/tot_posts)\n",
    "v_posts = df[df['post_type'] == 2]\n",
    "print(\"posts with videos:  \",v_posts.shape[0]/tot_posts)\n",
    "both_posts = df[df['post_type'] == 3]\n",
    "print(\"posts with both:    \",both_posts.shape[0]/tot_posts)\n",
    "\n",
    "#plt.bar(['photoes','videos','both'],[ph_posts.shape[0]/tot_posts,v_posts.shape[0]/tot_posts,both_posts.shape[0]/tot_posts])\n",
    "#plt.show()\n",
    "fig = plt.figure()\n",
    "ax = fig.add_subplot(2, 1, 1)\n",
    "ax.bar(['photoes','videos','both'],[ph_posts.shape[0]/tot_posts,v_posts.shape[0]/tot_posts,both_posts.shape[0]/tot_posts])\n",
    "ax.set_yscale('log')\n",
    "plt.show()\n"
   ]
  },
  {
   "cell_type": "markdown",
   "metadata": {},
   "source": [
    "### Task 5.5"
   ]
  },
  {
   "cell_type": "code",
   "execution_count": 51,
   "metadata": {},
   "outputs": [
    {
     "name": "stdout",
     "output_type": "stream",
     "text": [
      "--\n",
      "Photo only posts\n",
      "--------\n",
      "likes:      270306912\n",
      "comments:   6446990\n",
      "--\n",
      "Video only posts\n",
      "--------\n",
      "likes:      22896754\n",
      "comments:   626392\n",
      "--\n",
      "Both included posts\n",
      "--------\n",
      "likes:      8115\n",
      "comments:   49\n"
     ]
    }
   ],
   "source": [
    "print(\"--\")\n",
    "print(\"Photo only posts\")\n",
    "print(\"--------\")\n",
    "d_lc_pic = df[df['post_type'] == 1][['number_likes','number_comments']]\n",
    "print(\"likes:     \",d_lc_pic['number_likes'].sum())\n",
    "print(\"comments:  \",d_lc_pic['number_comments'].sum())\n",
    "print(\"--\")\n",
    "print(\"Video only posts\")\n",
    "print(\"--------\")\n",
    "d_lc_vid = df[df['post_type'] == 2][['number_likes','number_comments']]\n",
    "print(\"likes:     \",d_lc_vid['number_likes'].sum())\n",
    "print(\"comments:  \",d_lc_vid['number_comments'].sum())\n",
    "print(\"--\")\n",
    "print(\"Both included posts\")\n",
    "print(\"--------\")\n",
    "d_lc_mix = df[df['post_type'] == 3][['number_likes','number_comments']]\n",
    "print(\"likes:     \",d_lc_mix['number_likes'].sum())\n",
    "print(\"comments:  \",d_lc_mix['number_comments'].sum())"
   ]
  },
  {
   "cell_type": "code",
   "execution_count": null,
   "metadata": {},
   "outputs": [],
   "source": []
  },
  {
   "cell_type": "markdown",
   "metadata": {},
   "source": [
    "# Problem 6"
   ]
  },
  {
   "cell_type": "markdown",
   "metadata": {},
   "source": [
    "### Task 6.1"
   ]
  },
  {
   "cell_type": "code",
   "execution_count": 54,
   "metadata": {},
   "outputs": [],
   "source": [
    "top_ids = prof_df.sort_values(['n_posts'],ascending=False)\n",
    "supp_data = top_ids[['followers', 'following']].to_numpy()[[1,2,6]]\n",
    "top_ids = top_ids['profile_id'].to_numpy()[[1,2,6]]\n",
    "#print(top_ids)\n",
    "posts_1 = df[df['profile_id'] == top_ids[0]]\n",
    "posts_2 = df[df['profile_id'] == top_ids[1]]\n",
    "posts_3 = df[df['profile_id'] == top_ids[2]]"
   ]
  },
  {
   "cell_type": "code",
   "execution_count": 56,
   "metadata": {},
   "outputs": [
    {
     "name": "stdout",
     "output_type": "stream",
     "text": [
      "user 1 mean time between posts:  37346.0   seconds\n",
      "user 2 mean time between posts:  13333.0   seconds\n",
      "user 3 mean time between posts:  25722.0   seconds\n"
     ]
    }
   ],
   "source": [
    "mean_seconds = []\n",
    "## user 1\n",
    "dt_str = posts_1['cts'].to_numpy()\n",
    "dt = []\n",
    "for i in range(len(dt_str)):\n",
    "    datetime_object = datetime.datetime.strptime(dt_str[i][:-4], '%Y-%m-%d %H:%M:%S')\n",
    "    dt.append(datetime_object)\n",
    "#print(dt_1)\n",
    "td = []\n",
    "for i in range(1,len(dt)):\n",
    "    delta = (dt[i] - dt[i-1]).seconds\n",
    "    td.append(delta)\n",
    "print(\"user 1 mean time between posts: \",np.mean(delta),\"  seconds\")\n",
    "mean_seconds.append(np.mean(delta))\n",
    "\n",
    "## user 2\n",
    "dt_str = posts_2['cts'].to_numpy()\n",
    "dt = []\n",
    "for i in range(len(dt_str)):\n",
    "    datetime_object = datetime.datetime.strptime(dt_str[i][:-4], '%Y-%m-%d %H:%M:%S')\n",
    "    dt.append(datetime_object)\n",
    "#print(dt_1)\n",
    "td = []\n",
    "for i in range(1,len(dt)):\n",
    "    delta = (dt[i] - dt[i-1]).seconds\n",
    "    td.append(delta)\n",
    "print(\"user 2 mean time between posts: \",np.mean(delta),\"  seconds\")\n",
    "mean_seconds.append(np.mean(delta))\n",
    "\n",
    "## user 3\n",
    "dt_str = posts_3['cts'].to_numpy()\n",
    "dt = []\n",
    "for i in range(len(dt_str)):\n",
    "    datetime_object = datetime.datetime.strptime(dt_str[i][:-4], '%Y-%m-%d %H:%M:%S')\n",
    "    dt.append(datetime_object)\n",
    "#print(dt_1)\n",
    "td = []\n",
    "for i in range(1,len(dt)):\n",
    "    delta = (dt[i] - dt[i-1]).seconds\n",
    "    td.append(delta)\n",
    "print(\"user 3 mean time between posts: \",np.mean(delta),\"  seconds\")\n",
    "mean_seconds.append(np.mean(delta))"
   ]
  },
  {
   "cell_type": "code",
   "execution_count": 57,
   "metadata": {},
   "outputs": [
    {
     "data": {
      "image/png": "[encoded data removed]",
      "text/plain": [
       "<Figure size 432x288 with 1 Axes>"
      ]
     },
     "metadata": {
      "needs_background": "light"
     },
     "output_type": "display_data"
    },
    {
     "data": {
      "image/png": "[encoded data removed]",
      "text/plain": [
       "<Figure size 432x288 with 1 Axes>"
      ]
     },
     "metadata": {
      "needs_background": "light"
     },
     "output_type": "display_data"
    },
    {
     "data": {
      "image/png": "[encoded data removed]",
      "text/plain": [
       "<Figure size 432x288 with 1 Axes>"
      ]
     },
     "metadata": {
      "needs_background": "light"
     },
     "output_type": "display_data"
    }
   ],
   "source": [
    "plt.bar(['user 1', 'user 2', 'user 3'], mean_seconds)\n",
    "plt.title('mean seconds between posts')\n",
    "plt.show()\n",
    "plt.bar(['user 1', 'user 2', 'user 3'], supp_data[:,0])\n",
    "plt.title('number of followers')\n",
    "plt.show()\n",
    "plt.bar(['user 1', 'user 2', 'user 3'], supp_data[:,1])\n",
    "plt.title('number of followings')\n",
    "plt.show()"
   ]
  },
  {
   "cell_type": "markdown",
   "metadata": {},
   "source": [
    "### Task 6.2"
   ]
  },
  {
   "cell_type": "code",
   "execution_count": 110,
   "metadata": {},
   "outputs": [],
   "source": [
    "p_time = df[['cts','number_likes','number_comments']].to_numpy()\n",
    "time_int = []\n",
    "for i in range(len(p_time)):\n",
    "    temp = p_time[i][0].split(' ')\n",
    "    time_int.append([int(temp[1][:2]), p_time[i][1],p_time[i][2]])\n",
    "    \n",
    "time_int = np.array(time_int)\n",
    "#print(time_int[:20])"
   ]
  },
  {
   "cell_type": "code",
   "execution_count": 111,
   "metadata": {},
   "outputs": [
    {
     "name": "stdout",
     "output_type": "stream",
     "text": [
      "Number of posts:   34100  - mean likes:  360.4630901611503  - mean comments:  9.717439710155867\n",
      "Number of posts:   30594  - mean likes:  306.86462972984225  - mean comments:  7.57752986721059\n",
      "Number of posts:   29344  - mean likes:  382.2041338047321  - mean comments:  8.150484996827123\n",
      "Number of posts:   27979  - mean likes:  312.3835833138036  - mean comments:  6.281022966955707\n",
      "Number of posts:   25449  - mean likes:  384.9263147724711  - mean comments:  9.504395993687805\n",
      "Number of posts:   22678  - mean likes:  361.0217352361617  - mean comments:  7.237077287474373\n",
      "Number of posts:   20688  - mean likes:  360.4630901611503  - mean comments:  9.717439710155867\n",
      "Number of posts:   22184  - mean likes:  305.0996855063348  - mean comments:  7.852205948423039\n",
      "Number of posts:   24981  - mean likes:  343.8775208531306  - mean comments:  7.487100974905853\n",
      "Number of posts:   28413  - mean likes:  319.10952451598547  - mean comments:  10.680142422668942\n",
      "Number of posts:   31051  - mean likes:  305.0996855063348  - mean comments:  7.852205948423039\n",
      "Number of posts:   34136  - mean likes:  306.86462972984225  - mean comments:  7.57752986721059\n",
      "Number of posts:   37576  - mean likes:  333.4495243193265  - mean comments:  6.795445144650722\n",
      "Number of posts:   41099  - mean likes:  318.4375953079179  - mean comments:  8.0966568914956\n",
      "Number of posts:   45004  - mean likes:  295.51791739526635  - mean comments:  7.364751373051252\n",
      "Number of posts:   47012  - mean likes:  305.0996855063348  - mean comments:  7.852205948423039\n",
      "Number of posts:   50241  - mean likes:  312.3835833138036  - mean comments:  6.281022966955707\n",
      "Number of posts:   52994  - mean likes:  360.4630901611503  - mean comments:  9.717439710155867\n",
      "Number of posts:   55155  - mean likes:  382.2041338047321  - mean comments:  8.150484996827123\n",
      "Number of posts:   55780  - mean likes:  343.8775208531306  - mean comments:  7.487100974905853\n",
      "Number of posts:   55645  - mean likes:  361.0217352361617  - mean comments:  7.237077287474373\n",
      "Number of posts:   53924  - mean likes:  295.51791739526635  - mean comments:  7.364751373051252\n",
      "Number of posts:   48046  - mean likes:  384.9263147724711  - mean comments:  9.504395993687805\n",
      "Number of posts:   40603  - mean likes:  295.51791739526635  - mean comments:  7.364751373051252\n"
     ]
    }
   ],
   "source": [
    "time_counts = []\n",
    "for i in range(24):\n",
    "    time_counts.append(time_int[:,0].tolist().count(i))\n",
    "m_inds = np.argsort(time_counts)\n",
    "\n",
    "#print(time_counts)\n",
    "n = 24\n",
    "likes_n_comments = []\n",
    "for j in range(n):\n",
    "    likes = 0\n",
    "    comments = 0\n",
    "    cnt = 0\n",
    "    for i in range(len(time_int)):\n",
    "        if time_int[i][0] == time_int[m_inds[j]][0]:\n",
    "            likes += time_int[i][1]\n",
    "            comments += time_int[i][2]\n",
    "            cnt += 1\n",
    "    likes_n_comments.append([likes/cnt,comments/cnt])\n",
    "#print(likes_n_comments)\n",
    "for i in range(n):\n",
    "    print(\"Number of posts:  \",time_counts[i],\" - mean likes: \", likes_n_comments[i][0],\" - mean comments: \", likes_n_comments[i][1])"
   ]
  },
  {
   "cell_type": "code",
   "execution_count": 118,
   "metadata": {},
   "outputs": [
    {
     "data": {
      "image/png": "[encoded data removed]",
      "text/plain": [
       "<Figure size 432x288 with 1 Axes>"
      ]
     },
     "metadata": {
      "needs_background": "light"
     },
     "output_type": "display_data"
    },
    {
     "data": {
      "image/png": "[encoded data removed]",
      "text/plain": [
       "<Figure size 432x288 with 1 Axes>"
      ]
     },
     "metadata": {
      "needs_background": "light"
     },
     "output_type": "display_data"
    },
    {
     "data": {
      "image/png": "[encoded data removed]",
      "text/plain": [
       "<Figure size 432x288 with 1 Axes>"
      ]
     },
     "metadata": {
      "needs_background": "light"
     },
     "output_type": "display_data"
    }
   ],
   "source": [
    "temp_lk_cm = np.array(likes_n_comments)\n",
    "x_r = [i for i in range(24)]\n",
    "plt.bar(x_r,np.array(time_counts))\n",
    "plt.title(\"Number of posts\")\n",
    "plt.show()\n",
    "plt.bar(x_r,temp_lk_cm[:,0])\n",
    "plt.title(\"Mean number of likes\")\n",
    "plt.show()\n",
    "plt.bar(x_r,temp_lk_cm[:,1])\n",
    "plt.title(\"Mean number of comments\")\n",
    "plt.show()"
   ]
  },
  {
   "cell_type": "code",
   "execution_count": null,
   "metadata": {},
   "outputs": [],
   "source": []
  },
  {
   "cell_type": "markdown",
   "metadata": {},
   "source": [
    "# Problem 7"
   ]
  },
  {
   "cell_type": "markdown",
   "metadata": {},
   "source": [
    "### Task 7.1"
   ]
  },
  {
   "cell_type": "code",
   "execution_count": 79,
   "metadata": {},
   "outputs": [
    {
     "data": {
      "text/html": [
       "<div>\n",
       "<style scoped>\n",
       "    .dataframe tbody tr th:only-of-type {\n",
       "        vertical-align: middle;\n",
       "    }\n",
       "\n",
       "    .dataframe tbody tr th {\n",
       "        vertical-align: top;\n",
       "    }\n",
       "\n",
       "    .dataframe thead th {\n",
       "        text-align: right;\n",
       "    }\n",
       "</style>\n",
       "<table border=\"1\" class=\"dataframe\">\n",
       "  <thead>\n",
       "    <tr style=\"text-align: right;\">\n",
       "      <th></th>\n",
       "      <th>sid_x</th>\n",
       "      <th>sid_profile</th>\n",
       "      <th>post_id</th>\n",
       "      <th>profile_id</th>\n",
       "      <th>location_id</th>\n",
       "      <th>cts_x</th>\n",
       "      <th>post_type</th>\n",
       "      <th>description_x</th>\n",
       "      <th>number_likes</th>\n",
       "      <th>number_comments</th>\n",
       "      <th>sid_y</th>\n",
       "      <th>profile_name</th>\n",
       "      <th>firstname_lastname</th>\n",
       "      <th>description_y</th>\n",
       "      <th>following</th>\n",
       "      <th>followers</th>\n",
       "      <th>n_posts</th>\n",
       "      <th>url</th>\n",
       "      <th>cts_y</th>\n",
       "      <th>is_business_account</th>\n",
       "    </tr>\n",
       "  </thead>\n",
       "  <tbody>\n",
       "    <tr>\n",
       "      <th>0</th>\n",
       "      <td>28370919</td>\n",
       "      <td>3496776</td>\n",
       "      <td>BXdjjUlgcgq</td>\n",
       "      <td>2237947779</td>\n",
       "      <td>822632667</td>\n",
       "      <td>2017-08-06 20:06:57.000</td>\n",
       "      <td>2</td>\n",
       "      <td>Wreckloose! Deevalley bike park laps on the @i...</td>\n",
       "      <td>80</td>\n",
       "      <td>0</td>\n",
       "      <td>3496776</td>\n",
       "      <td>andylund_</td>\n",
       "      <td>Andy Lund</td>\n",
       "      <td>Professional Bicycle technician, Intense Racin...</td>\n",
       "      <td>520</td>\n",
       "      <td>1204</td>\n",
       "      <td>494</td>\n",
       "      <td>www.deevalleybicycleworkshop.co.uk</td>\n",
       "      <td>2019-05-13 17:27:02.273 -0400</td>\n",
       "      <td>false</td>\n",
       "    </tr>\n",
       "    <tr>\n",
       "      <th>1</th>\n",
       "      <td>13623950</td>\n",
       "      <td>3496776</td>\n",
       "      <td>BeyPed5hKj9</td>\n",
       "      <td>2237947779</td>\n",
       "      <td>30776247</td>\n",
       "      <td>2018-02-04 19:35:20.000</td>\n",
       "      <td>1</td>\n",
       "      <td>The dirty south was prime today. Top day with ...</td>\n",
       "      <td>86</td>\n",
       "      <td>2</td>\n",
       "      <td>3496776</td>\n",
       "      <td>andylund_</td>\n",
       "      <td>Andy Lund</td>\n",
       "      <td>Professional Bicycle technician, Intense Racin...</td>\n",
       "      <td>520</td>\n",
       "      <td>1204</td>\n",
       "      <td>494</td>\n",
       "      <td>www.deevalleybicycleworkshop.co.uk</td>\n",
       "      <td>2019-05-13 17:27:02.273 -0400</td>\n",
       "      <td>false</td>\n",
       "    </tr>\n",
       "    <tr>\n",
       "      <th>2</th>\n",
       "      <td>28370963</td>\n",
       "      <td>3303402</td>\n",
       "      <td>BXoABqGAfra</td>\n",
       "      <td>11771599</td>\n",
       "      <td>282618748</td>\n",
       "      <td>2017-08-10 21:28:09.000</td>\n",
       "      <td>1</td>\n",
       "      <td>Hip hip hip #TheCrown 👑 saison 2 c est pour le...</td>\n",
       "      <td>114</td>\n",
       "      <td>11</td>\n",
       "      <td>3303402</td>\n",
       "      <td>fasilol</td>\n",
       "      <td>Françøise</td>\n",
       "      <td>Tranches de vie 🔪 Ét de 🍋 🎈\\nfasilol1 👻</td>\n",
       "      <td>414</td>\n",
       "      <td>3906</td>\n",
       "      <td>3319</td>\n",
       "      <td>fr.pinterest.com/fasilol</td>\n",
       "      <td>2019-05-07 03:16:31.348 -0400</td>\n",
       "      <td>false</td>\n",
       "    </tr>\n",
       "    <tr>\n",
       "      <th>3</th>\n",
       "      <td>10318140</td>\n",
       "      <td>3406435</td>\n",
       "      <td>BxAN-l4JkNe</td>\n",
       "      <td>6027750611</td>\n",
       "      <td>1700344707</td>\n",
       "      <td>2019-05-03 16:16:42.000</td>\n",
       "      <td>1</td>\n",
       "      <td>⠀ ⠀ Руки не доходили поделиться с вами этими п...</td>\n",
       "      <td>46</td>\n",
       "      <td>30</td>\n",
       "      <td>3406435</td>\n",
       "      <td>olga_lamilashes</td>\n",
       "      <td>Ламинирование Парнас Спб</td>\n",
       "      <td>👩🏼‍💼Ольга \\n🍀Ламинирование/ботокс/завивка ресн...</td>\n",
       "      <td>121</td>\n",
       "      <td>164</td>\n",
       "      <td>92</td>\n",
       "      <td>api.whatsapp.com/send?phone=79119121179</td>\n",
       "      <td>2019-05-08 08:56:53.986 -0400</td>\n",
       "      <td>true</td>\n",
       "    </tr>\n",
       "    <tr>\n",
       "      <th>4</th>\n",
       "      <td>28370948</td>\n",
       "      <td>3529017</td>\n",
       "      <td>BwIGwmFFEcc</td>\n",
       "      <td>6263700119</td>\n",
       "      <td>1700344707</td>\n",
       "      <td>2019-04-11 21:16:09.000</td>\n",
       "      <td>1</td>\n",
       "      <td>Руки всегда обращают на себя внимание, поэтому...</td>\n",
       "      <td>66</td>\n",
       "      <td>1</td>\n",
       "      <td>3529017</td>\n",
       "      <td>nail_bar_blossom</td>\n",
       "      <td>Маникюр Ресницы Одинцово</td>\n",
       "      <td>💅🏻Безупречный маникюр\\n⚜️Наращивание\\n🎨Трендов...</td>\n",
       "      <td>3651</td>\n",
       "      <td>1640</td>\n",
       "      <td>546</td>\n",
       "      <td>chat.whatsapp.com/EadheTDKdII2uLm6ITrAj5</td>\n",
       "      <td>2019-05-16 10:17:38.523 -0400</td>\n",
       "      <td>true</td>\n",
       "    </tr>\n",
       "  </tbody>\n",
       "</table>\n",
       "</div>"
      ],
      "text/plain": [
       "      sid_x  sid_profile      post_id  profile_id  location_id  \\\n",
       "0  28370919      3496776  BXdjjUlgcgq  2237947779    822632667   \n",
       "1  13623950      3496776  BeyPed5hKj9  2237947779     30776247   \n",
       "2  28370963      3303402  BXoABqGAfra    11771599    282618748   \n",
       "3  10318140      3406435  BxAN-l4JkNe  6027750611   1700344707   \n",
       "4  28370948      3529017  BwIGwmFFEcc  6263700119   1700344707   \n",
       "\n",
       "                     cts_x  post_type  \\\n",
       "0  2017-08-06 20:06:57.000          2   \n",
       "1  2018-02-04 19:35:20.000          1   \n",
       "2  2017-08-10 21:28:09.000          1   \n",
       "3  2019-05-03 16:16:42.000          1   \n",
       "4  2019-04-11 21:16:09.000          1   \n",
       "\n",
       "                                       description_x  number_likes  \\\n",
       "0  Wreckloose! Deevalley bike park laps on the @i...            80   \n",
       "1  The dirty south was prime today. Top day with ...            86   \n",
       "2  Hip hip hip #TheCrown 👑 saison 2 c est pour le...           114   \n",
       "3  ⠀ ⠀ Руки не доходили поделиться с вами этими п...            46   \n",
       "4  Руки всегда обращают на себя внимание, поэтому...            66   \n",
       "\n",
       "   number_comments    sid_y      profile_name        firstname_lastname  \\\n",
       "0                0  3496776         andylund_                 Andy Lund   \n",
       "1                2  3496776         andylund_                 Andy Lund   \n",
       "2               11  3303402           fasilol                 Françøise   \n",
       "3               30  3406435   olga_lamilashes  Ламинирование Парнас Спб   \n",
       "4                1  3529017  nail_bar_blossom  Маникюр Ресницы Одинцово   \n",
       "\n",
       "                                       description_y  following  followers  \\\n",
       "0  Professional Bicycle technician, Intense Racin...        520       1204   \n",
       "1  Professional Bicycle technician, Intense Racin...        520       1204   \n",
       "2            Tranches de vie 🔪 Ét de 🍋 🎈\\nfasilol1 👻        414       3906   \n",
       "3  👩🏼‍💼Ольга \\n🍀Ламинирование/ботокс/завивка ресн...        121        164   \n",
       "4  💅🏻Безупречный маникюр\\n⚜️Наращивание\\n🎨Трендов...       3651       1640   \n",
       "\n",
       "   n_posts                                       url  \\\n",
       "0      494        www.deevalleybicycleworkshop.co.uk   \n",
       "1      494        www.deevalleybicycleworkshop.co.uk   \n",
       "2     3319                  fr.pinterest.com/fasilol   \n",
       "3       92   api.whatsapp.com/send?phone=79119121179   \n",
       "4      546  chat.whatsapp.com/EadheTDKdII2uLm6ITrAj5   \n",
       "\n",
       "                           cts_y is_business_account  \n",
       "0  2019-05-13 17:27:02.273 -0400               false  \n",
       "1  2019-05-13 17:27:02.273 -0400               false  \n",
       "2  2019-05-07 03:16:31.348 -0400               false  \n",
       "3  2019-05-08 08:56:53.986 -0400                true  \n",
       "4  2019-05-16 10:17:38.523 -0400                true  "
      ]
     },
     "execution_count": 79,
     "metadata": {},
     "output_type": "execute_result"
    }
   ],
   "source": [
    "m_df = pd.merge(df, prof_df, on=\"profile_id\")\n",
    "m_df.head()"
   ]
  },
  {
   "cell_type": "code",
   "execution_count": 81,
   "metadata": {},
   "outputs": [
    {
     "name": "stdout",
     "output_type": "stream",
     "text": [
      "probability     3.9620160701241782  %\n"
     ]
    }
   ],
   "source": [
    "cnt = 0\n",
    "for i, row in m_df.iterrows():\n",
    "    if row['number_likes'] > row['followers']/5:\n",
    "        cnt += 1\n",
    "print(\"probability    \",cnt/m_df.shape[0]*100,\" %\")"
   ]
  },
  {
   "cell_type": "markdown",
   "metadata": {},
   "source": [
    "### Task 7.2"
   ]
  },
  {
   "cell_type": "code",
   "execution_count": 82,
   "metadata": {},
   "outputs": [
    {
     "data": {
      "text/html": [
       "<div>\n",
       "<style scoped>\n",
       "    .dataframe tbody tr th:only-of-type {\n",
       "        vertical-align: middle;\n",
       "    }\n",
       "\n",
       "    .dataframe tbody tr th {\n",
       "        vertical-align: top;\n",
       "    }\n",
       "\n",
       "    .dataframe thead th {\n",
       "        text-align: right;\n",
       "    }\n",
       "</style>\n",
       "<table border=\"1\" class=\"dataframe\">\n",
       "  <thead>\n",
       "    <tr style=\"text-align: right;\">\n",
       "      <th></th>\n",
       "      <th>sid_x</th>\n",
       "      <th>sid_profile</th>\n",
       "      <th>post_id</th>\n",
       "      <th>profile_id</th>\n",
       "      <th>location_id</th>\n",
       "      <th>cts_x</th>\n",
       "      <th>post_type</th>\n",
       "      <th>description</th>\n",
       "      <th>number_likes</th>\n",
       "      <th>number_comments</th>\n",
       "      <th>...</th>\n",
       "      <th>dir_city_name</th>\n",
       "      <th>dir_city_slug</th>\n",
       "      <th>dir_country_id</th>\n",
       "      <th>dir_country_name</th>\n",
       "      <th>lat</th>\n",
       "      <th>lng</th>\n",
       "      <th>primary_alias_on_fb</th>\n",
       "      <th>slug</th>\n",
       "      <th>website</th>\n",
       "      <th>cts_y</th>\n",
       "    </tr>\n",
       "  </thead>\n",
       "  <tbody>\n",
       "    <tr>\n",
       "      <th>0</th>\n",
       "      <td>28370964</td>\n",
       "      <td>-1</td>\n",
       "      <td>BrYDPJeABJQ</td>\n",
       "      <td>16262389</td>\n",
       "      <td>282618748</td>\n",
       "      <td>2018-12-14 18:16:15.000</td>\n",
       "      <td>1</td>\n",
       "      <td>#beautiful #Christmas #lights</td>\n",
       "      <td>138</td>\n",
       "      <td>15</td>\n",
       "      <td>...</td>\n",
       "      <td>Covent Garden</td>\n",
       "      <td>covent-garden</td>\n",
       "      <td>GB</td>\n",
       "      <td>United Kingdom</td>\n",
       "      <td>-0.126802</td>\n",
       "      <td>51.513776</td>\n",
       "      <td>crown.sevendials</td>\n",
       "      <td>the-crown-seven-dials</td>\n",
       "      <td>http://www.taylor-walker.co.uk/pub/crown-coven...</td>\n",
       "      <td>2019-05-30 11:32:42.516</td>\n",
       "    </tr>\n",
       "    <tr>\n",
       "      <th>1</th>\n",
       "      <td>28370957</td>\n",
       "      <td>-1</td>\n",
       "      <td>BmQ418mgSnL</td>\n",
       "      <td>35673872</td>\n",
       "      <td>282618748</td>\n",
       "      <td>2018-08-09 17:53:46.000</td>\n",
       "      <td>1</td>\n",
       "      <td>As per your suggestion. #themerrytriotakeslondon</td>\n",
       "      <td>389</td>\n",
       "      <td>10</td>\n",
       "      <td>...</td>\n",
       "      <td>Covent Garden</td>\n",
       "      <td>covent-garden</td>\n",
       "      <td>GB</td>\n",
       "      <td>United Kingdom</td>\n",
       "      <td>-0.126802</td>\n",
       "      <td>51.513776</td>\n",
       "      <td>crown.sevendials</td>\n",
       "      <td>the-crown-seven-dials</td>\n",
       "      <td>http://www.taylor-walker.co.uk/pub/crown-coven...</td>\n",
       "      <td>2019-05-30 11:32:42.516</td>\n",
       "    </tr>\n",
       "    <tr>\n",
       "      <th>2</th>\n",
       "      <td>28370960</td>\n",
       "      <td>-1</td>\n",
       "      <td>Bm1YQ3Hn1gJ</td>\n",
       "      <td>840873396</td>\n",
       "      <td>282618748</td>\n",
       "      <td>2018-08-23 22:00:59.000</td>\n",
       "      <td>1</td>\n",
       "      <td>-Blue-💙</td>\n",
       "      <td>198</td>\n",
       "      <td>23</td>\n",
       "      <td>...</td>\n",
       "      <td>Covent Garden</td>\n",
       "      <td>covent-garden</td>\n",
       "      <td>GB</td>\n",
       "      <td>United Kingdom</td>\n",
       "      <td>-0.126802</td>\n",
       "      <td>51.513776</td>\n",
       "      <td>crown.sevendials</td>\n",
       "      <td>the-crown-seven-dials</td>\n",
       "      <td>http://www.taylor-walker.co.uk/pub/crown-coven...</td>\n",
       "      <td>2019-05-30 11:32:42.516</td>\n",
       "    </tr>\n",
       "    <tr>\n",
       "      <th>3</th>\n",
       "      <td>28370961</td>\n",
       "      <td>-1</td>\n",
       "      <td>2qBVjbTgzi</td>\n",
       "      <td>329994</td>\n",
       "      <td>282618748</td>\n",
       "      <td>2015-05-14 11:02:05.000</td>\n",
       "      <td>1</td>\n",
       "      <td>everything still feels so surreal ☁️</td>\n",
       "      <td>127</td>\n",
       "      <td>8</td>\n",
       "      <td>...</td>\n",
       "      <td>Covent Garden</td>\n",
       "      <td>covent-garden</td>\n",
       "      <td>GB</td>\n",
       "      <td>United Kingdom</td>\n",
       "      <td>-0.126802</td>\n",
       "      <td>51.513776</td>\n",
       "      <td>crown.sevendials</td>\n",
       "      <td>the-crown-seven-dials</td>\n",
       "      <td>http://www.taylor-walker.co.uk/pub/crown-coven...</td>\n",
       "      <td>2019-05-30 11:32:42.516</td>\n",
       "    </tr>\n",
       "    <tr>\n",
       "      <th>4</th>\n",
       "      <td>28370962</td>\n",
       "      <td>-1</td>\n",
       "      <td>BP5ViC6gaEf</td>\n",
       "      <td>360796468</td>\n",
       "      <td>282618748</td>\n",
       "      <td>2017-01-30 17:52:01.000</td>\n",
       "      <td>1</td>\n",
       "      <td>Guinness O'clock 🍺🍺 #london #pub #guinness #love</td>\n",
       "      <td>154</td>\n",
       "      <td>6</td>\n",
       "      <td>...</td>\n",
       "      <td>Covent Garden</td>\n",
       "      <td>covent-garden</td>\n",
       "      <td>GB</td>\n",
       "      <td>United Kingdom</td>\n",
       "      <td>-0.126802</td>\n",
       "      <td>51.513776</td>\n",
       "      <td>crown.sevendials</td>\n",
       "      <td>the-crown-seven-dials</td>\n",
       "      <td>http://www.taylor-walker.co.uk/pub/crown-coven...</td>\n",
       "      <td>2019-05-30 11:32:42.516</td>\n",
       "    </tr>\n",
       "    <tr>\n",
       "      <th>...</th>\n",
       "      <td>...</td>\n",
       "      <td>...</td>\n",
       "      <td>...</td>\n",
       "      <td>...</td>\n",
       "      <td>...</td>\n",
       "      <td>...</td>\n",
       "      <td>...</td>\n",
       "      <td>...</td>\n",
       "      <td>...</td>\n",
       "      <td>...</td>\n",
       "      <td>...</td>\n",
       "      <td>...</td>\n",
       "      <td>...</td>\n",
       "      <td>...</td>\n",
       "      <td>...</td>\n",
       "      <td>...</td>\n",
       "      <td>...</td>\n",
       "      <td>...</td>\n",
       "      <td>...</td>\n",
       "      <td>...</td>\n",
       "      <td>...</td>\n",
       "    </tr>\n",
       "    <tr>\n",
       "      <th>648118</th>\n",
       "      <td>29388106</td>\n",
       "      <td>-1</td>\n",
       "      <td>ByG7avmASq9</td>\n",
       "      <td>12121166102</td>\n",
       "      <td>284837820</td>\n",
       "      <td>2019-05-31 03:24:34.000</td>\n",
       "      <td>2</td>\n",
       "      <td>Intensité , combativité...10/10 la meilleure a...</td>\n",
       "      <td>10</td>\n",
       "      <td>1</td>\n",
       "      <td>...</td>\n",
       "      <td>NaN</td>\n",
       "      <td>NaN</td>\n",
       "      <td>NaN</td>\n",
       "      <td>NaN</td>\n",
       "      <td>2.963170</td>\n",
       "      <td>50.590490</td>\n",
       "      <td>NaN</td>\n",
       "      <td>santes</td>\n",
       "      <td>NaN</td>\n",
       "      <td>2019-06-01 00:19:52.588</td>\n",
       "    </tr>\n",
       "    <tr>\n",
       "      <th>648119</th>\n",
       "      <td>29388093</td>\n",
       "      <td>-1</td>\n",
       "      <td>ByGW0pCnQw1</td>\n",
       "      <td>255575914</td>\n",
       "      <td>284837820</td>\n",
       "      <td>2019-05-30 22:00:49.000</td>\n",
       "      <td>1</td>\n",
       "      <td>My friends. Love you. Miss you.</td>\n",
       "      <td>105</td>\n",
       "      <td>6</td>\n",
       "      <td>...</td>\n",
       "      <td>NaN</td>\n",
       "      <td>NaN</td>\n",
       "      <td>NaN</td>\n",
       "      <td>NaN</td>\n",
       "      <td>2.963170</td>\n",
       "      <td>50.590490</td>\n",
       "      <td>NaN</td>\n",
       "      <td>santes</td>\n",
       "      <td>NaN</td>\n",
       "      <td>2019-06-01 00:19:52.588</td>\n",
       "    </tr>\n",
       "    <tr>\n",
       "      <th>648120</th>\n",
       "      <td>29388108</td>\n",
       "      <td>-1</td>\n",
       "      <td>ByGVpSfIMYs</td>\n",
       "      <td>8197965226</td>\n",
       "      <td>284837820</td>\n",
       "      <td>2019-05-30 21:50:32.000</td>\n",
       "      <td>1</td>\n",
       "      <td>Que des beaux gosses😂</td>\n",
       "      <td>22</td>\n",
       "      <td>4</td>\n",
       "      <td>...</td>\n",
       "      <td>NaN</td>\n",
       "      <td>NaN</td>\n",
       "      <td>NaN</td>\n",
       "      <td>NaN</td>\n",
       "      <td>2.963170</td>\n",
       "      <td>50.590490</td>\n",
       "      <td>NaN</td>\n",
       "      <td>santes</td>\n",
       "      <td>NaN</td>\n",
       "      <td>2019-06-01 00:19:52.588</td>\n",
       "    </tr>\n",
       "    <tr>\n",
       "      <th>648121</th>\n",
       "      <td>29388103</td>\n",
       "      <td>-1</td>\n",
       "      <td>ByFM0IQhxUn</td>\n",
       "      <td>9147008252</td>\n",
       "      <td>284837820</td>\n",
       "      <td>2019-05-30 11:14:08.000</td>\n",
       "      <td>1</td>\n",
       "      <td>#TeamUSP #JND2019 #JournéeNationaleDesDébutant...</td>\n",
       "      <td>89</td>\n",
       "      <td>0</td>\n",
       "      <td>...</td>\n",
       "      <td>NaN</td>\n",
       "      <td>NaN</td>\n",
       "      <td>NaN</td>\n",
       "      <td>NaN</td>\n",
       "      <td>2.963170</td>\n",
       "      <td>50.590490</td>\n",
       "      <td>NaN</td>\n",
       "      <td>santes</td>\n",
       "      <td>NaN</td>\n",
       "      <td>2019-06-01 00:19:52.588</td>\n",
       "    </tr>\n",
       "    <tr>\n",
       "      <th>648122</th>\n",
       "      <td>29388099</td>\n",
       "      <td>-1</td>\n",
       "      <td>ByDiclhoHwE</td>\n",
       "      <td>1756239349</td>\n",
       "      <td>284837820</td>\n",
       "      <td>2019-05-29 19:44:40.000</td>\n",
       "      <td>1</td>\n",
       "      <td>big goal 💕</td>\n",
       "      <td>162</td>\n",
       "      <td>5</td>\n",
       "      <td>...</td>\n",
       "      <td>NaN</td>\n",
       "      <td>NaN</td>\n",
       "      <td>NaN</td>\n",
       "      <td>NaN</td>\n",
       "      <td>2.963170</td>\n",
       "      <td>50.590490</td>\n",
       "      <td>NaN</td>\n",
       "      <td>santes</td>\n",
       "      <td>NaN</td>\n",
       "      <td>2019-06-01 00:19:52.588</td>\n",
       "    </tr>\n",
       "  </tbody>\n",
       "</table>\n",
       "<p>609799 rows × 32 columns</p>\n",
       "</div>"
      ],
      "text/plain": [
       "           sid_x  sid_profile      post_id   profile_id  location_id  \\\n",
       "0       28370964           -1  BrYDPJeABJQ     16262389    282618748   \n",
       "1       28370957           -1  BmQ418mgSnL     35673872    282618748   \n",
       "2       28370960           -1  Bm1YQ3Hn1gJ    840873396    282618748   \n",
       "3       28370961           -1   2qBVjbTgzi       329994    282618748   \n",
       "4       28370962           -1  BP5ViC6gaEf    360796468    282618748   \n",
       "...          ...          ...          ...          ...          ...   \n",
       "648118  29388106           -1  ByG7avmASq9  12121166102    284837820   \n",
       "648119  29388093           -1  ByGW0pCnQw1    255575914    284837820   \n",
       "648120  29388108           -1  ByGVpSfIMYs   8197965226    284837820   \n",
       "648121  29388103           -1  ByFM0IQhxUn   9147008252    284837820   \n",
       "648122  29388099           -1  ByDiclhoHwE   1756239349    284837820   \n",
       "\n",
       "                          cts_x  post_type  \\\n",
       "0       2018-12-14 18:16:15.000          1   \n",
       "1       2018-08-09 17:53:46.000          1   \n",
       "2       2018-08-23 22:00:59.000          1   \n",
       "3       2015-05-14 11:02:05.000          1   \n",
       "4       2017-01-30 17:52:01.000          1   \n",
       "...                         ...        ...   \n",
       "648118  2019-05-31 03:24:34.000          2   \n",
       "648119  2019-05-30 22:00:49.000          1   \n",
       "648120  2019-05-30 21:50:32.000          1   \n",
       "648121  2019-05-30 11:14:08.000          1   \n",
       "648122  2019-05-29 19:44:40.000          1   \n",
       "\n",
       "                                              description  number_likes  \\\n",
       "0                           #beautiful #Christmas #lights           138   \n",
       "1        As per your suggestion. #themerrytriotakeslondon           389   \n",
       "2                                                 -Blue-💙           198   \n",
       "3                    everything still feels so surreal ☁️           127   \n",
       "4        Guinness O'clock 🍺🍺 #london #pub #guinness #love           154   \n",
       "...                                                   ...           ...   \n",
       "648118  Intensité , combativité...10/10 la meilleure a...            10   \n",
       "648119                    My friends. Love you. Miss you.           105   \n",
       "648120                              Que des beaux gosses😂            22   \n",
       "648121  #TeamUSP #JND2019 #JournéeNationaleDesDébutant...            89   \n",
       "648122                                         big goal 💕           162   \n",
       "\n",
       "        number_comments  ...  dir_city_name  dir_city_slug dir_country_id  \\\n",
       "0                    15  ...  Covent Garden  covent-garden             GB   \n",
       "1                    10  ...  Covent Garden  covent-garden             GB   \n",
       "2                    23  ...  Covent Garden  covent-garden             GB   \n",
       "3                     8  ...  Covent Garden  covent-garden             GB   \n",
       "4                     6  ...  Covent Garden  covent-garden             GB   \n",
       "...                 ...  ...            ...            ...            ...   \n",
       "648118                1  ...            NaN            NaN            NaN   \n",
       "648119                6  ...            NaN            NaN            NaN   \n",
       "648120                4  ...            NaN            NaN            NaN   \n",
       "648121                0  ...            NaN            NaN            NaN   \n",
       "648122                5  ...            NaN            NaN            NaN   \n",
       "\n",
       "       dir_country_name       lat        lng primary_alias_on_fb  \\\n",
       "0        United Kingdom -0.126802  51.513776    crown.sevendials   \n",
       "1        United Kingdom -0.126802  51.513776    crown.sevendials   \n",
       "2        United Kingdom -0.126802  51.513776    crown.sevendials   \n",
       "3        United Kingdom -0.126802  51.513776    crown.sevendials   \n",
       "4        United Kingdom -0.126802  51.513776    crown.sevendials   \n",
       "...                 ...       ...        ...                 ...   \n",
       "648118              NaN  2.963170  50.590490                 NaN   \n",
       "648119              NaN  2.963170  50.590490                 NaN   \n",
       "648120              NaN  2.963170  50.590490                 NaN   \n",
       "648121              NaN  2.963170  50.590490                 NaN   \n",
       "648122              NaN  2.963170  50.590490                 NaN   \n",
       "\n",
       "                         slug  \\\n",
       "0       the-crown-seven-dials   \n",
       "1       the-crown-seven-dials   \n",
       "2       the-crown-seven-dials   \n",
       "3       the-crown-seven-dials   \n",
       "4       the-crown-seven-dials   \n",
       "...                       ...   \n",
       "648118                 santes   \n",
       "648119                 santes   \n",
       "648120                 santes   \n",
       "648121                 santes   \n",
       "648122                 santes   \n",
       "\n",
       "                                                  website  \\\n",
       "0       http://www.taylor-walker.co.uk/pub/crown-coven...   \n",
       "1       http://www.taylor-walker.co.uk/pub/crown-coven...   \n",
       "2       http://www.taylor-walker.co.uk/pub/crown-coven...   \n",
       "3       http://www.taylor-walker.co.uk/pub/crown-coven...   \n",
       "4       http://www.taylor-walker.co.uk/pub/crown-coven...   \n",
       "...                                                   ...   \n",
       "648118                                                NaN   \n",
       "648119                                                NaN   \n",
       "648120                                                NaN   \n",
       "648121                                                NaN   \n",
       "648122                                                NaN   \n",
       "\n",
       "                          cts_y  \n",
       "0       2019-05-30 11:32:42.516  \n",
       "1       2019-05-30 11:32:42.516  \n",
       "2       2019-05-30 11:32:42.516  \n",
       "3       2019-05-30 11:32:42.516  \n",
       "4       2019-05-30 11:32:42.516  \n",
       "...                         ...  \n",
       "648118  2019-06-01 00:19:52.588  \n",
       "648119  2019-06-01 00:19:52.588  \n",
       "648120  2019-06-01 00:19:52.588  \n",
       "648121  2019-06-01 00:19:52.588  \n",
       "648122  2019-06-01 00:19:52.588  \n",
       "\n",
       "[609799 rows x 32 columns]"
      ]
     },
     "execution_count": 82,
     "metadata": {},
     "output_type": "execute_result"
    }
   ],
   "source": [
    "loc2 = loc_df.rename(columns={\"id\": \"location_id\"})\n",
    "m2_df = pd.merge(df, loc2, on=\"location_id\")\n",
    "mg_df = m2_df.groupby(['profile_id'])\n",
    "mg_df.head(5)"
   ]
  },
  {
   "cell_type": "code",
   "execution_count": 84,
   "metadata": {},
   "outputs": [],
   "source": [
    "locations = df['location_id'].unique()\n",
    "#print(locations)\n",
    "g = df.groupby(['profile_id'])['location_id'].apply(list)"
   ]
  },
  {
   "cell_type": "code",
   "execution_count": 85,
   "metadata": {},
   "outputs": [
    {
     "name": "stdout",
     "output_type": "stream",
     "text": [
      "probability     90.14895010380526  %\n"
     ]
    }
   ],
   "source": [
    "tot = 0\n",
    "cnt = 0\n",
    "for i in range(len(g)):\n",
    "    if len(g[i])> 1:\n",
    "        for j in range(1,len(g[i])):\n",
    "            tot += 1\n",
    "            if g[i][:j].count(g[i][j]) > 0:\n",
    "                cnt += 1\n",
    "\n",
    "print(\"probability    \", cnt/tot* 100,\" %\")"
   ]
  },
  {
   "cell_type": "code",
   "execution_count": null,
   "metadata": {},
   "outputs": [],
   "source": []
  },
  {
   "cell_type": "markdown",
   "metadata": {},
   "source": [
    "# Problem 8"
   ]
  },
  {
   "cell_type": "markdown",
   "metadata": {},
   "source": [
    "### Task 8.1"
   ]
  },
  {
   "cell_type": "code",
   "execution_count": 86,
   "metadata": {},
   "outputs": [],
   "source": [
    "lnd = df[['number_likes','number_comments']].to_numpy()"
   ]
  },
  {
   "cell_type": "code",
   "execution_count": 87,
   "metadata": {},
   "outputs": [
    {
     "data": {
      "image/png": "[encoded data removed]",
      "text/plain": [
       "<Figure size 432x288 with 1 Axes>"
      ]
     },
     "metadata": {
      "needs_background": "light"
     },
     "output_type": "display_data"
    }
   ],
   "source": [
    "plt.scatter(lnd[:,0], lnd[:,1])\n",
    "plt.xlabel('number of likes')\n",
    "plt.ylabel('number of comments')\n",
    "plt.show()"
   ]
  },
  {
   "cell_type": "markdown",
   "metadata": {},
   "source": [
    "### Task 8.2"
   ]
  },
  {
   "cell_type": "code",
   "execution_count": 113,
   "metadata": {},
   "outputs": [],
   "source": [
    "p_time = df[['cts','number_likes','number_comments']].to_numpy()\n",
    "time_int = []\n",
    "for i in range(len(p_time)):\n",
    "    temp = p_time[i][0].split(' ')\n",
    "    time_int.append([int(temp[1][:2]), p_time[i][1],p_time[i][2]])\n",
    "    \n",
    "time_int = np.array(time_int)"
   ]
  },
  {
   "cell_type": "code",
   "execution_count": 114,
   "metadata": {},
   "outputs": [],
   "source": [
    "time_counts = []\n",
    "for i in range(24):\n",
    "    time_counts.append(time_int[:,0].tolist().count(i))\n",
    "m_inds = np.argsort(time_counts)\n",
    "\n",
    "#print(time_counts)\n",
    "n = 24\n",
    "likes_n_comments = []\n",
    "mean_likes_n_comments = []\n",
    "for j in range(n):\n",
    "    likes = 0\n",
    "    comments = 0\n",
    "    cnt = 0\n",
    "    for i in range(len(time_int)):\n",
    "        if time_int[i][0] == time_int[m_inds[j]][0]:\n",
    "            likes += time_int[i][1]\n",
    "            comments += time_int[i][2]\n",
    "            cnt += 1\n",
    "    likes_n_comments.append([likes,comments])\n",
    "    mean_likes_n_comments.append([likes/cnt,comments/cnt])"
   ]
  },
  {
   "cell_type": "code",
   "execution_count": 129,
   "metadata": {},
   "outputs": [
    {
     "data": {
      "image/png": "[encoded data removed]",
      "text/plain": [
       "<Figure size 432x288 with 1 Axes>"
      ]
     },
     "metadata": {
      "needs_background": "light"
     },
     "output_type": "display_data"
    },
    {
     "data": {
      "image/png": "[encoded data removed]",
      "text/plain": [
       "<Figure size 432x288 with 1 Axes>"
      ]
     },
     "metadata": {
      "needs_background": "light"
     },
     "output_type": "display_data"
    },
    {
     "name": "stdout",
     "output_type": "stream",
     "text": [
      "correlation coef o time and  number of likes:              -0.2596246407008756\n",
      "correlation coef o time and  number of comments:           -0.26158611852235775\n",
      "Pearson correlation coef o time and  number of likes:      -0.25962464070087543\n",
      "Pearson correlation coef o time and  number of comments:   -0.2615861185223578\n"
     ]
    }
   ],
   "source": [
    "lk_cm_array = np.array(likes_n_comments)\n",
    "mean_lk_cm_array = np.array(mean_likes_n_comments)\n",
    "plt.plot(np.arange(24), lk_cm_array[:,0],'o-')\n",
    "plt.title(\"Number of likes\")\n",
    "plt.xlabel(\"Time\")\n",
    "plt.show()\n",
    "# plt.plot(np.arange(24), mean_lk_cm_array[:,0],'o-')\n",
    "# plt.show()\n",
    "plt.plot(np.arange(24), lk_cm_array[:,1],'o-')\n",
    "plt.title(\"Number of comments\")\n",
    "plt.xlabel(\"Time\")\n",
    "plt.show()\n",
    "# plt.plot(np.arange(24), mean_lk_cm_array[:,1],'o-')\n",
    "# plt.show()\n",
    "a = np.corrcoef(np.arange(24), lk_cm_array[:,0])\n",
    "print(\"correlation coef o time and  number of likes:             \",a[0,1])\n",
    "c = np.corrcoef(np.arange(24), lk_cm_array[:,1])\n",
    "print(\"correlation coef o time and  number of comments:          \",c[0,1])\n",
    "b = scipy.stats.pearsonr(np.arange(24), lk_cm_array[:,0])\n",
    "print(\"Pearson correlation coef o time and  number of likes:     \",b[0])\n",
    "b = scipy.stats.pearsonr(np.arange(24), lk_cm_array[:,1])\n",
    "print(\"Pearson correlation coef o time and  number of comments:  \",b[0])"
   ]
  },
  {
   "cell_type": "markdown",
   "metadata": {},
   "source": [
    "#### Conclusion:\n",
    "&nbsp;&nbsp;&nbsp;&nbsp;&nbsp;&nbsp;&nbsp;**There is no strong relation between time and number of likes and comments**"
   ]
  },
  {
   "cell_type": "markdown",
   "metadata": {},
   "source": [
    "### Task 8.3"
   ]
  },
  {
   "cell_type": "code",
   "execution_count": 90,
   "metadata": {},
   "outputs": [
    {
     "data": {
      "image/png": "[encoded data removed]",
      "text/plain": [
       "<Figure size 432x288 with 1 Axes>"
      ]
     },
     "metadata": {
      "needs_background": "light"
     },
     "output_type": "display_data"
    },
    {
     "name": "stdout",
     "output_type": "stream",
     "text": [
      "Number of followers\n",
      "Mean    11269.612487668619\n",
      "Mode    228\n",
      "Quantile 25   427.0\n",
      "Quantile 50   999.0\n",
      "Quantile 75   2746.0\n"
     ]
    }
   ],
   "source": [
    "_followers = prof_df['followers'].to_numpy()\n",
    "_fl = _followers.tolist()\n",
    "un = list(set(_fl))\n",
    "\n",
    "count = [0 for i in range(max(un)+1)]\n",
    "for i in range(len(_fl)):\n",
    "    count[_fl[i]] += 1\n",
    "\n",
    "plt.plot(count)\n",
    "plt.show()\n",
    "\n",
    "print(\"Number of followers\")\n",
    "print(\"Mean   \", np.mean(_followers))\n",
    "print(\"Mode   \", stats.mode(_followers)[0][0])\n",
    "print(\"Quantile 25  \", np.quantile(_followers, 0.25))\n",
    "print(\"Quantile 50  \", np.quantile(_followers, 0.5))\n",
    "print(\"Quantile 75  \", np.quantile(_followers, 0.75))"
   ]
  },
  {
   "cell_type": "markdown",
   "metadata": {},
   "source": [
    "### Task 8.4"
   ]
  },
  {
   "cell_type": "markdown",
   "metadata": {},
   "source": [
    "- **Bar chart** compares the measure of categorical dimension.\n",
    "- **Histogram** breaks down a numeric data into interval groups.\n",
    "- **Scatter plots** compares one numeric attribute against another numeric attribute and visualizes the correlation between axes. Scatter plot is commonly applied to identify regression type of relationships such as linear regression, logistic regression etc.\n",
    "- **Pie hart** is used to represent the percentage and weight of components belonging to one categorical attribute"
   ]
  },
  {
   "cell_type": "markdown",
   "metadata": {},
   "source": [
    "### Task 8.5"
   ]
  },
  {
   "cell_type": "markdown",
   "metadata": {},
   "source": [
    "- Compare frequency in categorical data\n",
    "- Breaks x-axis data into intervals"
   ]
  }
 ],
 "metadata": {
  "kernelspec": {
   "display_name": "Python 3",
   "language": "python",
   "name": "python3"
  },
  "language_info": {
   "codemirror_mode": {
    "name": "ipython",
    "version": 3
   },
   "file_extension": ".py",
   "mimetype": "text/x-python",
   "name": "python",
   "nbconvert_exporter": "python",
   "pygments_lexer": "ipython3",
   "version": "3.6.8"
  }
 },
 "nbformat": 4,
 "nbformat_minor": 2
}
